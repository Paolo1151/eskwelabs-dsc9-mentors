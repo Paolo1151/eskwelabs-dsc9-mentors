{
 "cells": [
  {
   "cell_type": "code",
   "execution_count": null,
   "id": "f78212a5",
   "metadata": {},
   "outputs": [],
   "source": [
    "!pip install pyLDAvis\n",
    "!pip install gensim"
   ]
  },
  {
   "cell_type": "code",
   "execution_count": 1,
   "id": "b8393ee2",
   "metadata": {},
   "outputs": [],
   "source": [
    "import re\n",
    "import numpy as np\n",
    "import pandas as  pd\n",
    "from pprint import pprint# Gensim\n",
    "import gensim\n",
    "import gensim.corpora as corpora\n",
    "from gensim.utils import simple_preprocess\n",
    "from gensim.models import CoherenceModel\n",
    "import spacy\n",
    "import pyLDAvis\n",
    "import pyLDAvis.gensim_models as gensimvis\n",
    "import matplotlib.pyplot as plt"
   ]
  },
  {
   "cell_type": "code",
   "execution_count": 2,
   "id": "06bbac4a",
   "metadata": {},
   "outputs": [],
   "source": [
    "# NLTK Stop words\n",
    "from nltk.corpus import stopwords\n",
    "stop_words = stopwords.words('english')\n",
    "stop_words.extend(['from', 'subject', 're', 'edu', 'use'])"
   ]
  },
  {
   "cell_type": "code",
   "execution_count": 3,
   "id": "4f6d6584",
   "metadata": {},
   "outputs": [
    {
     "name": "stdout",
     "output_type": "stream",
     "text": [
      "['rec.autos' 'comp.sys.mac.hardware' 'comp.graphics' 'sci.space'\n",
      " 'talk.politics.guns' 'sci.med' 'comp.sys.ibm.pc.hardware'\n",
      " 'comp.os.ms-windows.misc' 'rec.motorcycles' 'talk.religion.misc'\n",
      " 'misc.forsale' 'alt.atheism' 'sci.electronics' 'comp.windows.x'\n",
      " 'rec.sport.hockey' 'rec.sport.baseball' 'soc.religion.christian'\n",
      " 'talk.politics.mideast' 'talk.politics.misc' 'sci.crypt']\n"
     ]
    },
    {
     "data": {
      "text/html": [
       "<div>\n",
       "<style scoped>\n",
       "    .dataframe tbody tr th:only-of-type {\n",
       "        vertical-align: middle;\n",
       "    }\n",
       "\n",
       "    .dataframe tbody tr th {\n",
       "        vertical-align: top;\n",
       "    }\n",
       "\n",
       "    .dataframe thead th {\n",
       "        text-align: right;\n",
       "    }\n",
       "</style>\n",
       "<table border=\"1\" class=\"dataframe\">\n",
       "  <thead>\n",
       "    <tr style=\"text-align: right;\">\n",
       "      <th></th>\n",
       "      <th>content</th>\n",
       "      <th>target</th>\n",
       "      <th>target_names</th>\n",
       "    </tr>\n",
       "  </thead>\n",
       "  <tbody>\n",
       "    <tr>\n",
       "      <th>0</th>\n",
       "      <td>From: lerxst@wam.umd.edu (where's my thing)\\nS...</td>\n",
       "      <td>7</td>\n",
       "      <td>rec.autos</td>\n",
       "    </tr>\n",
       "    <tr>\n",
       "      <th>1</th>\n",
       "      <td>From: guykuo@carson.u.washington.edu (Guy Kuo)...</td>\n",
       "      <td>4</td>\n",
       "      <td>comp.sys.mac.hardware</td>\n",
       "    </tr>\n",
       "    <tr>\n",
       "      <th>2</th>\n",
       "      <td>From: twillis@ec.ecn.purdue.edu (Thomas E Will...</td>\n",
       "      <td>4</td>\n",
       "      <td>comp.sys.mac.hardware</td>\n",
       "    </tr>\n",
       "    <tr>\n",
       "      <th>3</th>\n",
       "      <td>From: jgreen@amber (Joe Green)\\nSubject: Re: W...</td>\n",
       "      <td>1</td>\n",
       "      <td>comp.graphics</td>\n",
       "    </tr>\n",
       "    <tr>\n",
       "      <th>4</th>\n",
       "      <td>From: jcm@head-cfa.harvard.edu (Jonathan McDow...</td>\n",
       "      <td>14</td>\n",
       "      <td>sci.space</td>\n",
       "    </tr>\n",
       "  </tbody>\n",
       "</table>\n",
       "</div>"
      ],
      "text/plain": [
       "                                             content  target  \\\n",
       "0  From: lerxst@wam.umd.edu (where's my thing)\\nS...       7   \n",
       "1  From: guykuo@carson.u.washington.edu (Guy Kuo)...       4   \n",
       "2  From: twillis@ec.ecn.purdue.edu (Thomas E Will...       4   \n",
       "3  From: jgreen@amber (Joe Green)\\nSubject: Re: W...       1   \n",
       "4  From: jcm@head-cfa.harvard.edu (Jonathan McDow...      14   \n",
       "\n",
       "            target_names  \n",
       "0              rec.autos  \n",
       "1  comp.sys.mac.hardware  \n",
       "2  comp.sys.mac.hardware  \n",
       "3          comp.graphics  \n",
       "4              sci.space  "
      ]
     },
     "execution_count": 3,
     "metadata": {},
     "output_type": "execute_result"
    }
   ],
   "source": [
    "# LoadDataset\n",
    "df=pd.read_json('newsgroups.json')\n",
    "print(df.target_names.unique())\n",
    "df.head()"
   ]
  },
  {
   "cell_type": "code",
   "execution_count": 4,
   "id": "6c04c9a2",
   "metadata": {},
   "outputs": [
    {
     "data": {
      "text/plain": [
       "(11314, 3)"
      ]
     },
     "execution_count": 4,
     "metadata": {},
     "output_type": "execute_result"
    }
   ],
   "source": [
    "df.shape"
   ]
  },
  {
   "cell_type": "markdown",
   "id": "e21a985e",
   "metadata": {},
   "source": [
    "### Initial Data Cleaning"
   ]
  },
  {
   "cell_type": "code",
   "execution_count": 5,
   "id": "350f80b0",
   "metadata": {},
   "outputs": [
    {
     "name": "stderr",
     "output_type": "stream",
     "text": [
      "<>:4: DeprecationWarning: invalid escape sequence \\S\n",
      "<>:6: DeprecationWarning: invalid escape sequence \\s\n",
      "<>:4: DeprecationWarning: invalid escape sequence \\S\n",
      "<>:6: DeprecationWarning: invalid escape sequence \\s\n",
      "C:\\Users\\rheyannmagcalas\\AppData\\Local\\Temp\\ipykernel_13416\\3487159870.py:4: DeprecationWarning: invalid escape sequence \\S\n",
      "  data = [re.sub('\\S*@\\S*\\s?', '', sent) for sent in data]\n",
      "C:\\Users\\rheyannmagcalas\\AppData\\Local\\Temp\\ipykernel_13416\\3487159870.py:6: DeprecationWarning: invalid escape sequence \\s\n",
      "  data = [re.sub('\\s+', ' ', sent) for sent in data]\n"
     ]
    },
    {
     "name": "stdout",
     "output_type": "stream",
     "text": [
      "['From: (wheres my thing) Subject: WHAT car is this!? Nntp-Posting-Host: '\n",
      " 'rac3.wam.umd.edu Organization: University of Maryland, College Park Lines: '\n",
      " '15 I was wondering if anyone out there could enlighten me on this car I saw '\n",
      " 'the other day. It was a 2-door sports car, looked to be from the late 60s/ '\n",
      " 'early 70s. It was called a Bricklin. The doors were really small. In '\n",
      " 'addition, the front bumper was separate from the rest of the body. This is '\n",
      " 'all I know. If anyone can tellme a model name, engine specs, years of '\n",
      " 'production, where this car is made, history, or whatever info you have on '\n",
      " 'this funky looking car, please e-mail. Thanks, - IL ---- brought to you by '\n",
      " 'your neighborhood Lerxst ---- ']\n"
     ]
    }
   ],
   "source": [
    "# Convert to list \n",
    "data = df.content.values.tolist()  \n",
    "# Remove Emails \n",
    "data = [re.sub('\\S*@\\S*\\s?', '', sent) for sent in data]  \n",
    "# Remove new line characters \n",
    "data = [re.sub('\\s+', ' ', sent) for sent in data]  \n",
    "# Remove distracting single quotes \n",
    "data = [re.sub(\"\\'\", \"\", sent) for sent in data]  \n",
    "pprint(data[:1])"
   ]
  },
  {
   "cell_type": "markdown",
   "id": "2cc292bc",
   "metadata": {},
   "source": [
    "### Tokenization"
   ]
  },
  {
   "cell_type": "code",
   "execution_count": 6,
   "id": "f85f3c31",
   "metadata": {},
   "outputs": [
    {
     "name": "stdout",
     "output_type": "stream",
     "text": [
      "[['from', 'wheres', 'my', 'thing', 'subject', 'what', 'car', 'is', 'this', 'nntp', 'posting', 'host', 'rac', 'wam', 'umd', 'edu', 'organization', 'university', 'of', 'maryland', 'college', 'park', 'lines', 'was', 'wondering', 'if', 'anyone', 'out', 'there', 'could', 'enlighten', 'me', 'on', 'this', 'car', 'saw', 'the', 'other', 'day', 'it', 'was', 'door', 'sports', 'car', 'looked', 'to', 'be', 'from', 'the', 'late', 'early', 'it', 'was', 'called', 'bricklin', 'the', 'doors', 'were', 'really', 'small', 'in', 'addition', 'the', 'front', 'bumper', 'was', 'separate', 'from', 'the', 'rest', 'of', 'the', 'body', 'this', 'is', 'all', 'know', 'if', 'anyone', 'can', 'tellme', 'model', 'name', 'engine', 'specs', 'years', 'of', 'production', 'where', 'this', 'car', 'is', 'made', 'history', 'or', 'whatever', 'info', 'you', 'have', 'on', 'this', 'funky', 'looking', 'car', 'please', 'mail', 'thanks', 'il', 'brought', 'to', 'you', 'by', 'your', 'neighborhood', 'lerxst']]\n"
     ]
    }
   ],
   "source": [
    "def sent_to_words(sentences):\n",
    "    for sentence in sentences:\n",
    "        yield(gensim.utils.simple_preprocess(str(sentence), deacc=True))            #deacc=True removes punctuations\n",
    "data_words = list(sent_to_words(data))\n",
    "print(data_words[:1])"
   ]
  },
  {
   "cell_type": "markdown",
   "id": "7d0265e1",
   "metadata": {},
   "source": [
    "### Build the bigram and trigram models"
   ]
  },
  {
   "cell_type": "code",
   "execution_count": 7,
   "id": "ce013cd9",
   "metadata": {},
   "outputs": [
    {
     "name": "stdout",
     "output_type": "stream",
     "text": [
      "['from', 'wheres', 'my', 'thing', 'subject', 'what', 'car', 'is', 'this', 'nntp_posting_host', 'rac_wam_umd_edu', 'organization', 'university', 'of', 'maryland_college_park', 'lines', 'was', 'wondering', 'if', 'anyone', 'out', 'there', 'could', 'enlighten', 'me', 'on', 'this', 'car', 'saw', 'the', 'other', 'day', 'it', 'was', 'door', 'sports', 'car', 'looked', 'to', 'be', 'from', 'the', 'late', 'early', 'it', 'was', 'called', 'bricklin', 'the', 'doors', 'were', 'really', 'small', 'in', 'addition', 'the', 'front_bumper', 'was', 'separate', 'from', 'the', 'rest', 'of', 'the', 'body', 'this', 'is', 'all', 'know', 'if', 'anyone', 'can', 'tellme', 'model', 'name', 'engine', 'specs', 'years', 'of', 'production', 'where', 'this', 'car', 'is', 'made', 'history', 'or', 'whatever', 'info', 'you', 'have', 'on', 'this', 'funky', 'looking', 'car', 'please', 'mail', 'thanks', 'il', 'brought', 'to', 'you', 'by', 'your', 'neighborhood', 'lerxst']\n"
     ]
    }
   ],
   "source": [
    "bigram = gensim.models.Phrases(data_words, min_count=5, threshold=100) # higher threshold fewer phrases.\n",
    "trigram = gensim.models.Phrases(bigram[data_words], threshold=100)\n",
    "# Faster way to get a sentence clubbed as a trigram/bigram\n",
    "bigram_mod = gensim.models.phrases.Phraser(bigram)\n",
    "trigram_mod = gensim.models.phrases.Phraser(trigram)\n",
    "# See trigram example\n",
    "print(trigram_mod[bigram_mod[data_words[0]]])"
   ]
  },
  {
   "cell_type": "markdown",
   "id": "cba5275e",
   "metadata": {},
   "source": [
    "### Define function for stopwords, bigrams, trigrams and lemmatization"
   ]
  },
  {
   "cell_type": "code",
   "execution_count": 8,
   "id": "842353f9",
   "metadata": {},
   "outputs": [],
   "source": [
    "def remove_stopwords(texts):\n",
    "    return [[word for word in simple_preprocess(str(doc)) if word not in stop_words] for doc in texts]\n",
    "\n",
    "def make_bigrams(texts):\n",
    "    return [bigram_mod[doc] for doc in texts]\n",
    "\n",
    "def make_trigrams(texts):\n",
    "    return [trigram_mod[bigram_mod[doc]] for doc in texts]\n",
    "\n",
    "def lemmatization(texts, allowed_postags=['NOUN', 'ADJ', 'VERB', 'ADV']):\n",
    "    \"\"\"https://spacy.io/api/annotation\"\"\"\n",
    "    texts_out = []\n",
    "    for sent in texts:\n",
    "        doc = nlp(\" \".join(sent)) \n",
    "        texts_out.append([token.lemma_ for token in doc if token.pos_ in allowed_postags])\n",
    "    return texts_out"
   ]
  },
  {
   "cell_type": "code",
   "execution_count": 9,
   "id": "29469c47",
   "metadata": {},
   "outputs": [],
   "source": [
    "# Remove Stop Words\n",
    "data_words_nostops = remove_stopwords(data_words)\n",
    "\n",
    "# Form Bigrams\n",
    "data_words_bigrams = make_bigrams(data_words_nostops)"
   ]
  },
  {
   "cell_type": "code",
   "execution_count": 10,
   "id": "b839c0b8",
   "metadata": {},
   "outputs": [
    {
     "name": "stdout",
     "output_type": "stream",
     "text": [
      "[['s', 'thing', 'car', 'nntp_poste', 'host', 'umd', 'organization', 'park', 'line', 'wonder', 'enlighten', 'car', 'see', 'day', 'door', 'sport', 'car', 'look', 'late', 'early', 'call', 'bricklin', 'door', 'really', 'small', 'addition', 'separate', 'rest', 'body', 'know', 'tellme', 'model', 'name', 'engine', 'spec', 'year', 'production', 'car', 'make', 'history', 'info', 'funky', 'look', 'car', 'mail', 'thank', 'bring', 'neighborhood', 'lerxst']]\n"
     ]
    }
   ],
   "source": [
    "# Initialize spacy 'en' model, keeping only tagger component (for efficiency)\n",
    "# python3 -m spacy download en\n",
    "nlp = spacy.load('en_core_web_sm', disable=['parser', 'ner'])\n",
    "\n",
    "# Do lemmatization keeping only noun, adj, vb, adv\n",
    "data_lemmatized = lemmatization(data_words_bigrams, allowed_postags=['NOUN', 'ADJ', 'VERB', 'ADV'])\n",
    "\n",
    "print(data_lemmatized[:1])"
   ]
  },
  {
   "cell_type": "code",
   "execution_count": 11,
   "id": "141a0f6e",
   "metadata": {},
   "outputs": [],
   "source": [
    "# Create Dictionary \n",
    "id2word = corpora.Dictionary(data_lemmatized)  \n",
    "# Create Corpus \n",
    "texts = data_lemmatized  "
   ]
  },
  {
   "cell_type": "code",
   "execution_count": 12,
   "id": "6269f584",
   "metadata": {},
   "outputs": [
    {
     "name": "stdout",
     "output_type": "stream",
     "text": [
      "[[(0, 1), (1, 1), (2, 1), (3, 1), (4, 1), (5, 5), (6, 1), (7, 2), (8, 1), (9, 1), (10, 1), (11, 1), (12, 1), (13, 1), (14, 1), (15, 1), (16, 1), (17, 1), (18, 1), (19, 2), (20, 1), (21, 1), (22, 1), (23, 1), (24, 1), (25, 1), (26, 1), (27, 1), (28, 1), (29, 1), (30, 1), (31, 1), (32, 1), (33, 1), (34, 1), (35, 1), (36, 1), (37, 1), (38, 1), (39, 1), (40, 1), (41, 1), (42, 1)]]\n"
     ]
    }
   ],
   "source": [
    "# Term Document Frequency \n",
    "corpus = [id2word.doc2bow(text) for text in texts]  \n",
    "# View \n",
    "print(corpus[:1])"
   ]
  },
  {
   "cell_type": "code",
   "execution_count": 13,
   "id": "ce32c893",
   "metadata": {},
   "outputs": [
    {
     "data": {
      "text/plain": [
       "[[('addition', 1),\n",
       "  ('body', 1),\n",
       "  ('bricklin', 1),\n",
       "  ('bring', 1),\n",
       "  ('call', 1),\n",
       "  ('car', 5),\n",
       "  ('day', 1),\n",
       "  ('door', 2),\n",
       "  ('early', 1),\n",
       "  ('engine', 1),\n",
       "  ('enlighten', 1),\n",
       "  ('funky', 1),\n",
       "  ('history', 1),\n",
       "  ('host', 1),\n",
       "  ('info', 1),\n",
       "  ('know', 1),\n",
       "  ('late', 1),\n",
       "  ('lerxst', 1),\n",
       "  ('line', 1),\n",
       "  ('look', 2),\n",
       "  ('mail', 1),\n",
       "  ('make', 1),\n",
       "  ('model', 1),\n",
       "  ('name', 1),\n",
       "  ('neighborhood', 1),\n",
       "  ('nntp_poste', 1),\n",
       "  ('organization', 1),\n",
       "  ('park', 1),\n",
       "  ('production', 1),\n",
       "  ('really', 1),\n",
       "  ('rest', 1),\n",
       "  ('s', 1),\n",
       "  ('see', 1),\n",
       "  ('separate', 1),\n",
       "  ('small', 1),\n",
       "  ('spec', 1),\n",
       "  ('sport', 1),\n",
       "  ('tellme', 1),\n",
       "  ('thank', 1),\n",
       "  ('thing', 1),\n",
       "  ('umd', 1),\n",
       "  ('wonder', 1),\n",
       "  ('year', 1)]]"
      ]
     },
     "execution_count": 13,
     "metadata": {},
     "output_type": "execute_result"
    }
   ],
   "source": [
    "[[(id2word[id], freq) for id, freq in cp] for cp in corpus[:1]]"
   ]
  },
  {
   "cell_type": "code",
   "execution_count": 14,
   "id": "d2e2b742",
   "metadata": {},
   "outputs": [],
   "source": [
    "lda_model = gensim.models.ldamodel.LdaModel(corpus=corpus,\n",
    "                                           id2word=id2word,\n",
    "                                           num_topics=8, \n",
    "                                           random_state=100,\n",
    "                                           update_every=1,\n",
    "                                           chunksize=100,\n",
    "                                           passes=10,\n",
    "                                           alpha='auto',\n",
    "                                           per_word_topics=True)"
   ]
  },
  {
   "cell_type": "code",
   "execution_count": 15,
   "id": "ab9d1404",
   "metadata": {},
   "outputs": [
    {
     "name": "stdout",
     "output_type": "stream",
     "text": [
      "[(0,\n",
      "  '0.032*\"sale\" + 0.030*\"physical\" + 0.019*\"server\" + 0.016*\"item\" + '\n",
      "  '0.014*\"sell\" + 0.014*\"wing\" + 0.012*\"box\" + 0.012*\"direct\" + 0.012*\"nhl\" + '\n",
      "  '0.011*\"recommend\"'),\n",
      " (1,\n",
      "  '0.022*\"line\" + 0.011*\"organization\" + 0.011*\"use\" + 0.010*\"nntp_poste\" + '\n",
      "  '0.010*\"host\" + 0.010*\"get\" + 0.009*\"system\" + 0.008*\"drive\" + 0.008*\"need\" '\n",
      "  '+ 0.007*\"thank\"'),\n",
      " (2,\n",
      "  '0.015*\"write\" + 0.014*\"say\" + 0.011*\"people\" + 0.011*\"think\" + '\n",
      "  '0.011*\"article\" + 0.010*\"know\" + 0.010*\"make\" + 0.009*\"line\" + 0.008*\"go\" + '\n",
      "  '0.007*\"see\"'),\n",
      " (3,\n",
      "  '0.014*\"line\" + 0.014*\"go\" + 0.014*\"get\" + 0.014*\"year\" + 0.013*\"team\" + '\n",
      "  '0.013*\"game\" + 0.012*\"car\" + 0.009*\"good\" + 0.009*\"organization\" + '\n",
      "  '0.009*\"write\"'),\n",
      " (4,\n",
      "  '0.575*\"ax\" + 0.057*\"_\" + 0.018*\"c\" + 0.010*\"cx\" + 0.008*\"rlk\" + 0.005*\"sj\" '\n",
      "  '+ 0.005*\"m\" + 0.003*\"mf\" + 0.003*\"nei\" + 0.003*\"mu\"'),\n",
      " (5,\n",
      "  '0.015*\"government\" + 0.014*\"gun\" + 0.014*\"child\" + 0.013*\"kill\" + '\n",
      "  '0.013*\"law\" + 0.011*\"state\" + 0.011*\"people\" + 0.009*\"death\" + '\n",
      "  '0.008*\"right\" + 0.008*\"public\"'),\n",
      " (6,\n",
      "  '0.018*\"space\" + 0.009*\"israeli\" + 0.008*\"greek\" + 0.008*\"lebanese\" + '\n",
      "  '0.008*\"armenian\" + 0.008*\"village\" + 0.008*\"government\" + 0.007*\"first\" + '\n",
      "  '0.007*\"launch\" + 0.006*\"soldier\"'),\n",
      " (7,\n",
      "  '0.008*\"test\" + 0.007*\"high\" + 0.006*\"research\" + 0.006*\"year\" + '\n",
      "  '0.005*\"power\" + 0.005*\"report\" + 0.005*\"increase\" + 0.005*\"wire\" + '\n",
      "  '0.005*\"effect\" + 0.005*\"low\"')]\n"
     ]
    }
   ],
   "source": [
    "# Print the keyword of topics\n",
    "pprint(lda_model.print_topics())\n",
    "doc_lda = lda_model[corpus]"
   ]
  },
  {
   "cell_type": "code",
   "execution_count": 16,
   "id": "a96fcea8",
   "metadata": {},
   "outputs": [
    {
     "name": "stdout",
     "output_type": "stream",
     "text": [
      "\n",
      "Perplexity:  -8.341446026603764\n",
      "\n",
      "Coherence Score:  0.46851123719778365\n"
     ]
    }
   ],
   "source": [
    "# Compute Perplexity\n",
    "print('\\nPerplexity: ', lda_model.log_perplexity(corpus))  \n",
    "# a measure of how good the model is. lower the better.\n",
    "\n",
    "# Compute Coherence Score\n",
    "coherence_model_lda = CoherenceModel(model=lda_model, texts=data_lemmatized, dictionary=id2word, coherence='c_v')\n",
    "coherence_lda = coherence_model_lda.get_coherence()\n",
    "print('\\nCoherence Score: ', coherence_lda)"
   ]
  },
  {
   "cell_type": "markdown",
   "id": "2244bfe6",
   "metadata": {},
   "source": [
    "### Visualize the topics"
   ]
  },
  {
   "cell_type": "code",
   "execution_count": 19,
   "id": "cc9335c4",
   "metadata": {},
   "outputs": [
    {
     "name": "stderr",
     "output_type": "stream",
     "text": [
      "C:\\Users\\rheyannmagcalas\\anaconda3\\lib\\site-packages\\pyLDAvis\\_prepare.py:246: FutureWarning: In a future version of pandas all arguments of DataFrame.drop except for the argument 'labels' will be keyword-only.\n",
      "  default_term_info = default_term_info.sort_values(\n"
     ]
    }
   ],
   "source": [
    "vis = gensimvis.prepare(lda_model, corpus, id2word)"
   ]
  },
  {
   "cell_type": "code",
   "execution_count": 21,
   "id": "ada7fc56",
   "metadata": {},
   "outputs": [
    {
     "data": {
      "text/html": [
       "\n",
       "<link rel=\"stylesheet\" type=\"text/css\" href=\"https://cdn.jsdelivr.net/gh/bmabey/pyLDAvis@3.3.1/pyLDAvis/js/ldavis.v1.0.0.css\">\n",
       "\n",
       "\n",
       "<div id=\"ldavis_el1341613725280579202026320158\"></div>\n",
       "<script type=\"text/javascript\">\n",
       "\n",
       "var ldavis_el1341613725280579202026320158_data = {\"mdsDat\": {\"x\": [0.2588254855676673, 0.23734357756300337, 0.189015026443558, 0.020538386629495947, -0.06310568544552694, -0.2636911135880866, -0.13245574463596743, -0.24646993253414456], \"y\": [-0.019465827202463152, -0.10329800854183106, -0.07703042334915874, 0.07586075873138662, 0.2586671203271546, -0.19059986534803597, 0.19638297938098223, -0.1405167339980344], \"topics\": [1, 2, 3, 4, 5, 6, 7, 8], \"cluster\": [1, 1, 1, 1, 1, 1, 1, 1], \"Freq\": [35.00736846535995, 26.70484918038773, 11.164227190412838, 9.462435905120316, 6.7353431908075505, 4.559648961969734, 4.27973090338782, 2.08639620255406]}, \"tinfo\": {\"Term\": [\"ax\", \"_\", \"people\", \"line\", \"go\", \"get\", \"say\", \"think\", \"write\", \"team\", \"year\", \"nntp_poste\", \"game\", \"space\", \"car\", \"host\", \"article\", \"organization\", \"government\", \"law\", \"state\", \"sale\", \"child\", \"gun\", \"c\", \"good\", \"right\", \"physical\", \"kill\", \"first\", \"believe\", \"reason\", \"evidence\", \"claim\", \"christian\", \"sense\", \"faith\", \"understand\", \"god\", \"religion\", \"argument\", \"matter\", \"accept\", \"explain\", \"speak\", \"prove\", \"patient\", \"truth\", \"belief\", \"mind\", \"clear\", \"atheist\", \"certainly\", \"church\", \"valid\", \"statement\", \"conclusion\", \"slave\", \"religious\", \"existence\", \"perhaps\", \"agree\", \"say\", \"opinion\", \"love\", \"mean\", \"talk\", \"life\", \"fact\", \"think\", \"thing\", \"people\", \"true\", \"word\", \"tell\", \"many\", \"make\", \"even\", \"know\", \"write\", \"wrong\", \"come\", \"article\", \"man\", \"see\", \"point\", \"way\", \"take\", \"go\", \"s\", \"time\", \"seem\", \"well\", \"give\", \"line\", \"question\", \"good\", \"want\", \"organization\", \"get\", \"m\", \"key\", \"mail\", \"file\", \"window\", \"card\", \"computer\", \"chip\", \"driver\", \"software\", \"info\", \"email\", \"machine\", \"image\", \"version\", \"code\", \"phone\", \"entry\", \"memory\", \"color\", \"ripem\", \"user\", \"internet\", \"pin\", \"application\", \"screen\", \"hardware\", \"choose\", \"graphic\", \"disk\", \"encryption\", \"thank\", \"drive\", \"copy\", \"program\", \"bit\", \"use\", \"system\", \"available\", \"host\", \"line\", \"nntp_poste\", \"need\", \"com\", \"organization\", \"problem\", \"run\", \"work\", \"get\", \"help\", \"new\", \"send\", \"do\", \"also\", \"write\", \"information\", \"look\", \"know\", \"m\", \"want\", \"article\", \"team\", \"game\", \"car\", \"play\", \"player\", \"hockey\", \"bike\", \"season\", \"hit\", \"trade\", \"fan\", \"engine\", \"ride\", \"score\", \"playoff\", \"pen\", \"capable\", \"motorcycle\", \"baseball\", \"sport\", \"pack\", \"rider\", \"stat\", \"helmet\", \"coach\", \"saturn\", \"dog\", \"ice\", \"winner\", \"ball\", \"win\", \"division\", \"year\", \"pick\", \"goal\", \"owner\", \"next\", \"go\", \"guy\", \"last\", \"get\", \"good\", \"line\", \"big\", \"nntp_poste\", \"well\", \"article\", \"organization\", \"first\", \"run\", \"write\", \"host\", \"s\", \"look\", \"time\", \"back\", \"think\", \"take\", \"see\", \"test\", \"wire\", \"scientific\", \"announce\", \"motif\", \"material\", \"food\", \"treatment\", \"health\", \"dn\", \"doctor\", \"diagnosis\", \"syndrome\", \"significant\", \"convert\", \"cable\", \"tumor\", \"analysis\", \"translation\", \"medical\", \"eeg\", \"procedure\", \"degree\", \"improve\", \"ensure\", \"tube\", \"slightly\", \"los_angele\", \"negative\", \"cap\", \"period\", \"trust\", \"ground\", \"eat\", \"research\", \"effect\", \"increase\", \"reduce\", \"study\", \"level\", \"low\", \"high\", \"report\", \"science\", \"power\", \"risk\", \"result\", \"rate\", \"cost\", \"year\", \"cause\", \"service\", \"information\", \"provide\", \"week\", \"case\", \"also\", \"lead\", \"less\", \"group\", \"include\", \"gun\", \"kill\", \"reality\", \"crime\", \"murder\", \"weapon\", \"police\", \"tv\", \"trial\", \"criminal\", \"firearm\", \"cop\", \"court\", \"examine\", \"militia\", \"father\", \"smoke\", \"illegal\", \"colorado\", \"son\", \"girl\", \"amendment\", \"dream\", \"husband\", \"honest\", \"constitution\", \"possess\", \"gang\", \"cub\", \"liar\", \"child\", \"fire\", \"citizen\", \"legal\", \"government\", \"death\", \"law\", \"drug\", \"black\", \"protect\", \"arm\", \"public\", \"state\", \"carry\", \"safety\", \"right\", \"people\", \"country\", \"shoot\", \"case\", \"person\", \"ax\", \"_\", \"c\", \"cx\", \"rlk\", \"sj\", \"mf\", \"nei\", \"mu\", \"r\", \"ip\", \"sy\", \"conversion\", \"lk\", \"wm\", \"gy\", \"hst\", \"kp\", \"bo\", \"ei\", \"gb\", \"ai\", \"bhj\", \"n\", \"qx\", \"ij\", \"ci\", \"hh\", \"gw\", \"bxn\", \"hz\", \"m\", \"wa\", \"israeli\", \"lebanese\", \"armenian\", \"village\", \"launch\", \"turk\", \"orbit\", \"mission\", \"moon\", \"turkish\", \"arab\", \"occupy\", \"terrorism\", \"withdraw\", \"satellite\", \"international\", \"workstation\", \"rocket\", \"northern\", \"ethnic\", \"cambridge\", \"lebanese_resistance\", \"patrol\", \"astronomy\", \"expansion\", \"inhabitant\", \"border\", \"invasion\", \"sky\", \"russian\", \"greek\", \"space\", \"soldier\", \"land\", \"civilian\", \"attack\", \"earth\", \"war\", \"military\", \"government\", \"force\", \"first\", \"policy\", \"year\", \"center\", \"area\", \"sale\", \"physical\", \"server\", \"item\", \"wing\", \"direct\", \"nhl\", \"recommend\", \"upgrade\", \"gateway\", \"vertical\", \"shuttle\", \"band\", \"cd\", \"probe\", \"floppy\", \"sector\", \"widget\", \"icon\", \"daughter\", \"ethernet\", \"buyer\", \"inch\", \"shipping\", \"human_being\", \"routine\", \"jet\", \"guide\", \"grade\", \"stack\", \"usenet\", \"box\", \"sell\", \"offer\", \"price\", \"select\", \"super\", \"distribution\", \"radio\", \"condition\", \"include\"], \"Freq\": [33697.0, 3365.0, 6058.0, 13780.0, 5835.0, 8027.0, 6746.0, 5630.0, 10460.0, 1882.0, 3682.0, 5419.0, 1801.0, 1395.0, 1754.0, 4874.0, 7469.0, 8053.0, 1678.0, 1581.0, 2230.0, 871.0, 1274.0, 1228.0, 1070.0, 5028.0, 3065.0, 815.0, 1165.0, 2945.0, 2735.656362289279, 2727.809368990924, 2400.9356213169117, 1658.1095182039737, 1420.6465050941144, 1410.9309056555628, 1160.6533510037184, 907.9821784164138, 875.8647311410691, 854.8488578669669, 841.5275872194555, 829.8599832393842, 826.5182847341097, 813.5045718844423, 791.0672587727148, 788.8628064322154, 751.1822352696216, 733.5257145593654, 710.5373538449261, 702.6397033517975, 692.4632648828194, 624.9742087166865, 607.1568631998588, 600.3317622473633, 562.3386042375995, 548.5227056345026, 534.9093834245691, 516.6288415104435, 509.73590077797735, 509.5220090238304, 788.4408377622046, 1031.33438596927, 6381.641897452306, 1157.0998037955856, 860.9035713258338, 2156.564894642191, 1309.7322890149583, 1197.2296267518086, 1672.9465757499036, 4930.385664547971, 3084.4590700056474, 5107.115677787821, 1240.6161782340687, 1058.5828229362164, 2167.708010686304, 2517.6162710795074, 4562.599552888236, 2498.9082075867404, 4626.185595304009, 6742.95101266758, 1071.8421210279707, 2754.464587681123, 4870.791849122164, 1414.290939236505, 3297.4346990004024, 2255.2769607066657, 2434.3555399817633, 2474.529262347728, 3425.078676293706, 2275.583423710217, 2931.565283765044, 1813.3691578368832, 2729.7220840845844, 2143.801586540215, 4048.6596288033647, 1908.304407857522, 2496.6859964158084, 2136.0618796274816, 2891.959424885475, 2785.1870500137343, 2247.3888968388146, 2285.075403744876, 2017.490056752568, 1966.5131528410427, 1551.5791218382642, 1520.0265426877081, 1498.1236256215363, 1263.3927341521387, 1201.9084275197197, 1088.2980747029712, 1031.1040697261458, 1018.4190671746204, 996.8564650199523, 926.9199124619439, 904.0500790502175, 881.8778991994388, 879.1242896066639, 824.4841650155097, 799.044866105913, 779.6959093490648, 771.9783216354392, 752.4854223807944, 749.3886206250328, 737.3833687363395, 733.9739855764232, 719.3664195687634, 699.0930658493855, 696.1285377381844, 690.6390616034454, 687.0062119116915, 678.7753545029798, 2435.7888735172783, 2632.546359381101, 936.7235874243148, 1875.252330459532, 1574.0045797431892, 3768.816768134593, 3209.915143308345, 1138.891664778054, 3427.1559423261438, 7668.8323675535175, 3544.7853359225714, 2584.5892907481702, 1049.707019112403, 3845.167513484479, 2053.085653778494, 1718.7186604791632, 2150.769460553636, 3270.42214352041, 1536.279816619927, 1844.9782100512055, 1259.3227820059428, 1309.3189427800653, 1806.2104432653966, 2415.9336004230945, 1253.9748506594315, 1444.9043837210145, 1683.6193893340353, 1396.52403942549, 1325.92475994259, 1312.8467727926939, 1881.8726468708296, 1799.9370579278132, 1753.3538955287802, 1291.659052880655, 881.2186931627751, 733.0414762717596, 654.8508024621301, 614.7330315540888, 545.2756147758105, 478.40692738537484, 477.2264838919111, 467.9334609502313, 449.0583602772666, 434.90249419958707, 344.3044501092992, 342.03775401959695, 326.9736591485937, 316.0953288958979, 295.9221714062225, 270.3942330083413, 270.51781052994045, 244.55796059144788, 234.59497607464726, 225.9989457247095, 225.26678608105908, 216.35470333777099, 210.04697050181932, 209.64950763628397, 207.85907867998014, 207.36535331891224, 1075.0468532145878, 442.6949448835902, 1963.201591638598, 453.60882643626746, 420.944599411748, 290.4512473413103, 750.7936704235989, 1997.3344482114123, 435.94467521248384, 829.4998380829597, 1967.6170363659965, 1337.2938242095056, 2057.7751331190134, 577.8182857577241, 1163.0582395153401, 1059.3877084362819, 1285.1272365923296, 1310.2110844563256, 844.06123623571, 790.4957851551651, 1300.995946928421, 988.2563734000412, 790.7532647770234, 680.8331893854324, 732.5378774058566, 601.8919287310812, 698.9939561840512, 623.9404841205312, 607.039048615429, 927.1167423518253, 570.0893972395354, 381.41896105751897, 382.17554928223234, 374.43298063241895, 370.96396301802065, 370.0470854778454, 344.7842149760471, 314.0087796860476, 410.32847012540753, 308.51405628808334, 305.42511692506537, 297.9223025764357, 290.4342710940023, 285.8235744224437, 276.14597956293517, 274.8299079961257, 272.1732117111809, 259.80298290925026, 252.9358034873945, 254.02713017655287, 248.7259150634915, 244.5350574558412, 222.43477161120543, 215.40660904204532, 199.1107929536536, 186.6968810653096, 185.25171429628594, 184.44701095726697, 183.5512315690386, 366.68341702484605, 315.73593953964917, 449.71775694145686, 367.23749131053694, 782.1246348791457, 561.5360648419559, 576.5253814109986, 360.74444300998255, 523.4107697250245, 493.5540810732249, 561.3928806053879, 817.6347786626839, 588.5781184257132, 525.2006293214586, 661.0688763843161, 387.71331857410155, 487.195239674786, 450.08611085068156, 450.7322523739283, 678.7792598414918, 475.76678140036114, 420.5942927890605, 510.6859503720519, 487.1895757413775, 422.62087648230477, 470.9245431310612, 443.3282453436107, 393.7070911446927, 398.9324661894137, 406.4238677122251, 390.8921162406461, 1227.7406225764396, 1164.3116664289007, 503.84552146546406, 489.0488289729326, 486.949143556052, 433.43637419817173, 432.2235953208345, 361.29574540625066, 342.44961641427136, 332.58928711861415, 300.7563814817778, 299.9562344709902, 275.54731590769126, 275.31554056809244, 232.9890054230248, 220.20521866073517, 217.9835377354833, 214.44889325401036, 209.42002553170397, 205.29467444459488, 202.18350677076606, 198.9750974689824, 197.33112131478316, 195.43990872466642, 194.57084191164464, 187.74764038528096, 186.6386342900149, 180.77287173607473, 181.442677874898, 171.63397291779643, 1215.478421038721, 574.7582126519753, 377.09081753173143, 340.1984243481974, 1257.3264281974662, 798.3461861452117, 1129.424015032963, 456.30972570244995, 462.8631744375011, 437.6390509247573, 265.6126040234865, 715.033816658409, 985.6204186464712, 438.6069921542631, 349.8380449820641, 734.5131853893132, 950.5708591336735, 360.9090365773357, 314.6858818444135, 374.78749718002496, 326.93645228359753, 33696.645531601265, 3364.262911800559, 1069.7877196990835, 572.253534994891, 448.32374370186085, 300.82361673243884, 197.19489068545232, 179.69921539282612, 178.4405849645527, 163.72559972644575, 159.04767086313535, 145.099392320992, 128.68670524740264, 111.0708328777074, 110.01913574605922, 111.38645255266101, 106.19256872943879, 85.00647608389765, 85.27416294400057, 82.91754695476263, 84.52789848480462, 86.61268594580949, 78.77765967366612, 77.48588225399844, 76.79094855154582, 76.21821111687417, 74.15344967887098, 76.40397892002369, 69.11559143247312, 61.48599735812692, 95.4276090633841, 269.11536033310597, 86.13509088413119, 518.0498115172288, 441.7699888800611, 433.20887450699024, 425.5063205754996, 364.1354518812019, 339.1277880162671, 321.4297358595379, 307.2019688688403, 300.18969599534825, 297.86770179735583, 291.73855625977416, 267.29669948041845, 267.4404375868695, 263.69773912124765, 258.2324376917702, 223.86985929254578, 197.77402802682192, 193.31083301637938, 175.73309203714922, 170.12902223792562, 166.6364757255197, 160.9038460105548, 158.16221646738776, 154.65578543284735, 154.57007028328664, 151.68531744645682, 151.00689715183142, 143.91788795720691, 143.7628910915712, 137.96550109624482, 442.0302083926845, 986.7161179133047, 354.0746297972126, 264.3037652100576, 190.244146828629, 352.7897223041861, 353.18356112945406, 289.49128743275264, 240.55759471779706, 420.635440643454, 266.0634618788038, 376.9222257822581, 207.31921431047266, 347.3838783947715, 241.62140016185205, 245.43226599537022, 870.7061107209058, 814.1557642565481, 512.3808251617617, 422.86385726338824, 385.91276436902, 329.25409223330325, 322.7155127485487, 299.7215719187602, 265.54003949083756, 257.1142654589596, 194.07588066640602, 153.2858953237941, 149.10615291608514, 145.2850441611796, 145.05180802579787, 143.87140289192837, 142.57465443843924, 134.11471173733855, 135.28286560494067, 132.77578945491473, 131.1187963258408, 129.21803921483735, 127.935677569442, 121.08414754300128, 120.18460986922685, 118.32961080063282, 117.25322278882342, 111.4320604722601, 104.84711100621018, 101.11470841266772, 190.4701743993493, 332.8118549619293, 386.95927977235687, 244.610280920243, 276.3289466605113, 162.15548739910727, 128.10737013686693, 180.70984907708996, 139.80329562098194, 143.49382411075834, 146.53384907623808], \"Total\": [33697.0, 3365.0, 6058.0, 13780.0, 5835.0, 8027.0, 6746.0, 5630.0, 10460.0, 1882.0, 3682.0, 5419.0, 1801.0, 1395.0, 1754.0, 4874.0, 7469.0, 8053.0, 1678.0, 1581.0, 2230.0, 871.0, 1274.0, 1228.0, 1070.0, 5028.0, 3065.0, 815.0, 1165.0, 2945.0, 2736.731226175428, 2728.884792186341, 2402.010627215047, 1659.1846092053343, 1421.7209442304143, 1412.0060827412783, 1161.7279401377807, 909.0573031894526, 876.9392492803476, 855.9234476112281, 842.6024292163223, 830.9352808573764, 827.5935713864044, 814.5795286738878, 792.1423567032035, 789.9382645212621, 752.2607527550792, 734.6007351847492, 711.6119454872124, 703.7149049269321, 693.5405161952681, 626.0486547297, 608.2317461420272, 601.406153140934, 563.4150363857614, 549.5975196457689, 535.984080034933, 517.71117719728, 510.81065509115524, 510.59676652112665, 792.2737002639554, 1044.1349193689155, 6746.028537768579, 1184.3485787783675, 874.1207758553695, 2262.3347229708133, 1357.8771557111324, 1236.0461951495965, 1758.7681440057302, 5630.314874506795, 3470.243233186026, 6058.621174514192, 1302.964054312095, 1097.6542075053262, 2507.091750844228, 3052.045269640996, 6248.418497610304, 3088.127125638129, 6465.51948850781, 10460.672728466105, 1134.25462844417, 3611.951334286701, 7469.558091179958, 1603.5195766992983, 4644.340219588303, 2896.0699686325943, 3232.1320648930496, 3548.612297136499, 5835.334863161396, 3240.636340427661, 4785.55540864945, 2339.113352243132, 4565.828344457033, 3162.750702204693, 13780.515165696643, 2721.9565508234377, 5028.537596088377, 3571.8139024569437, 8053.154917531701, 8027.251070514817, 4437.404672339906, 2286.1388855774203, 2018.5540721040609, 1967.5768048991786, 1552.6424076368362, 1521.0906289241448, 1499.1875557738342, 1264.4563948841937, 1202.9718124720225, 1089.3614516209047, 1032.1679561419562, 1019.4826556051318, 997.9202887083183, 927.984206390931, 905.1136527807864, 882.9416653134764, 880.1880769556781, 825.549139941477, 800.1087132698311, 780.7596046356065, 773.043849020987, 753.5493372336975, 750.4526100443121, 738.4470947577776, 735.0381125820171, 720.4300939682603, 700.1567500107515, 697.1974091761367, 691.7022779368972, 688.0695726563129, 679.8386947175794, 2510.756161774755, 2779.993325018786, 954.1489059355042, 2066.1314674809682, 1720.6457712737954, 4765.407711815074, 3978.292748909404, 1243.0559192010994, 4874.300868344809, 13780.515165696643, 5419.034324648603, 3645.734409850275, 1163.269689566546, 8053.154917531701, 3164.2539334108747, 2510.1383326698997, 3625.490072830197, 8027.251070514817, 2242.5105522848885, 3117.337006550718, 1641.4585488643916, 1859.7375650003864, 4530.953141250819, 10460.672728466105, 1795.473117667, 3162.298176785177, 6465.51948850781, 4437.404672339906, 3571.8139024569437, 7469.558091179958, 1882.9392146530276, 1801.0034744896393, 1754.4206910070334, 1292.726929529402, 882.2848735686541, 734.1076994951729, 655.9170716812688, 615.8000793279213, 546.3426093399983, 479.4743707886084, 478.2929191917095, 469.00073829655577, 450.12494643645283, 435.9686948087105, 345.3705772818816, 343.10525589476873, 328.0493068771772, 317.16178712007553, 296.98831211897476, 271.46077219615205, 271.58607652074556, 245.6245154663547, 235.6621046725922, 227.06523750025778, 226.33306270967768, 217.42327101469965, 211.11388784591452, 210.71599793243493, 208.92751420499656, 208.4327522316421, 1264.9831820777758, 528.7343108098268, 3682.531073134206, 565.1365821793922, 517.7998331596173, 320.2102679809841, 1333.0584552090938, 5835.334863161396, 603.3982608232208, 1710.5224563043419, 8027.251070514817, 5028.537596088377, 13780.515165696643, 1153.965356608607, 5419.034324648603, 4565.828344457033, 7469.558091179958, 8053.154917531701, 2945.3421850556383, 2510.1383326698997, 10460.672728466105, 4874.300868344809, 3240.636340427661, 3162.298176785177, 4785.55540864945, 1959.5349969680717, 5630.314874506795, 3548.612297136499, 4644.340219588303, 928.1827716319805, 571.1555097381872, 382.48446785762053, 383.2459250141142, 375.4988506590069, 372.03004907299095, 371.11249757818825, 345.85042610422107, 315.0745774191249, 411.72686118520113, 309.5796264244852, 306.4920841065506, 298.9878829190876, 291.500620362322, 286.88954233882936, 277.21201535376855, 275.9028339261568, 273.2392131329193, 260.86881102349344, 254.0012999420887, 255.0988065094626, 249.79163077842824, 245.60091417157005, 223.50122620734382, 216.47346536453216, 200.17696960246752, 187.76370823099066, 186.31771530368164, 185.5135966196302, 184.61838494642208, 369.93636271441875, 318.55587347490575, 462.76662564483394, 394.14876722414857, 909.7734624088328, 650.9009996294277, 702.7868615353356, 405.3895878370807, 709.0539422740344, 707.823519546465, 894.8890301185747, 1715.0086464619185, 1104.1446874940887, 904.4012314430513, 1457.505292547187, 536.2956095930471, 885.8774375874896, 782.0772276222215, 1008.6395096602898, 3682.531073134206, 1208.4079906259021, 852.2655080140889, 1795.473117667, 1520.2826875719902, 949.4850397979276, 2360.2270396883437, 4530.953141250819, 952.1784695341073, 1219.3062581849717, 2129.6792528568885, 1831.5920720594406, 1228.8064088473473, 1165.3781666944237, 504.9154540761841, 490.1146359089035, 488.01557331268026, 434.5022732728505, 433.2898860086524, 362.3633902081049, 343.5159224862531, 333.655075736004, 301.8221021818875, 301.0224283155371, 276.6133032619881, 276.38771046519486, 234.05507989422262, 221.27213480418885, 219.05136837224376, 215.51568051505214, 210.4901613198886, 206.3615976806748, 203.2506413444851, 200.0410252412947, 198.39858301583823, 196.50672701073316, 195.63934737695956, 188.81339564852595, 187.7127861635339, 181.84019655397256, 182.52093161338118, 172.70296217517438, 1274.29208470073, 605.558827051431, 413.25638122069194, 370.3028731097797, 1678.9035407531258, 1007.273173368182, 1581.1565883807034, 587.8849319532801, 613.2895399047635, 591.226278608204, 296.5456838681137, 1348.9966797294105, 2230.367046525695, 658.987830872112, 488.4016904237426, 3065.188361499971, 6058.621174514192, 711.7154934210039, 460.14758310871275, 2360.2270396883437, 1301.5044864385152, 33697.5872983026, 3365.216215732044, 1070.7337143356178, 573.1972583225252, 449.2658364710003, 301.7735583145672, 198.13710141444264, 180.64217623437995, 179.40635267147226, 164.66742574868806, 160.04173759114676, 146.04515450552586, 129.6456198784358, 112.02562518216273, 110.96629585658576, 112.34990884224625, 107.15888340395766, 85.9502130267766, 86.22253396008031, 83.85932566534535, 85.49698494685806, 87.61532983234093, 79.71946417522898, 78.43343687376941, 77.73374475863694, 77.16057636067582, 75.10182966250585, 77.42661048935204, 70.06884154140243, 62.42823874670305, 142.74418225022805, 4437.404672339906, 168.59182251281882, 519.1313506732092, 442.85207284040706, 434.2903497734478, 426.58800339603266, 365.21721220895597, 340.2091945419431, 322.5113871329655, 308.2842141523727, 301.27156135970336, 298.9490796670388, 292.82007569851726, 268.37866555828884, 268.52335017640405, 264.78018678551797, 259.31410581379595, 224.95279044060896, 198.86075925347504, 194.39399141852675, 176.81643423448006, 171.21116717195872, 167.71918981072304, 161.9867888696663, 159.24544423149007, 155.73811922085457, 155.65396795375102, 152.76691435847854, 152.0899641328813, 144.99979327665247, 144.84682541862358, 139.0470838492163, 508.9297768004569, 1395.8573960711813, 499.44809638156084, 382.1158804102695, 228.84186408373122, 690.6482541501848, 743.2085611847208, 566.1686105733463, 414.85256340832626, 1678.9035407531258, 778.8078083477327, 2945.3421850556383, 336.1555465170258, 3682.531073134206, 739.7797527862111, 892.1269411453156, 871.7906516798244, 815.2436853468791, 513.4653016816167, 423.94970140155937, 386.99866641904794, 330.3409577983953, 323.8011979790208, 300.8091409286871, 266.62478137120763, 258.1993456224444, 195.16374248244335, 154.3730675199031, 150.19137232735213, 146.3696124170719, 146.1374134640154, 144.95630994998385, 143.66122698239366, 135.19896356661562, 136.37754553900683, 133.8623625284439, 132.20750279100318, 130.30315001693137, 129.02108619077268, 122.1686222095907, 121.27232454706534, 119.41412063824292, 118.33859957001933, 112.51700522349078, 105.93316638459358, 102.20007800346565, 208.66799686618796, 479.58185730394325, 980.1827484396288, 665.5480206613522, 1105.5451500768854, 279.7732975828585, 146.9261388392879, 495.2867538445215, 309.3562650814708, 472.7424705058539, 1831.5920720594406], \"Category\": [\"Default\", \"Default\", \"Default\", \"Default\", \"Default\", \"Default\", \"Default\", \"Default\", \"Default\", \"Default\", \"Default\", \"Default\", \"Default\", \"Default\", \"Default\", \"Default\", \"Default\", \"Default\", \"Default\", \"Default\", \"Default\", \"Default\", \"Default\", \"Default\", \"Default\", \"Default\", \"Default\", \"Default\", \"Default\", \"Default\", \"Topic1\", \"Topic1\", \"Topic1\", \"Topic1\", \"Topic1\", \"Topic1\", \"Topic1\", \"Topic1\", \"Topic1\", \"Topic1\", \"Topic1\", \"Topic1\", \"Topic1\", \"Topic1\", \"Topic1\", \"Topic1\", \"Topic1\", \"Topic1\", \"Topic1\", \"Topic1\", \"Topic1\", \"Topic1\", \"Topic1\", \"Topic1\", \"Topic1\", \"Topic1\", \"Topic1\", \"Topic1\", \"Topic1\", \"Topic1\", \"Topic1\", \"Topic1\", \"Topic1\", \"Topic1\", \"Topic1\", \"Topic1\", \"Topic1\", \"Topic1\", \"Topic1\", \"Topic1\", \"Topic1\", \"Topic1\", \"Topic1\", \"Topic1\", \"Topic1\", \"Topic1\", \"Topic1\", \"Topic1\", \"Topic1\", \"Topic1\", \"Topic1\", \"Topic1\", \"Topic1\", \"Topic1\", \"Topic1\", \"Topic1\", \"Topic1\", \"Topic1\", \"Topic1\", \"Topic1\", \"Topic1\", \"Topic1\", \"Topic1\", \"Topic1\", \"Topic1\", \"Topic1\", \"Topic1\", \"Topic1\", \"Topic1\", \"Topic1\", \"Topic1\", \"Topic2\", \"Topic2\", \"Topic2\", \"Topic2\", \"Topic2\", \"Topic2\", \"Topic2\", \"Topic2\", \"Topic2\", \"Topic2\", \"Topic2\", \"Topic2\", \"Topic2\", \"Topic2\", \"Topic2\", \"Topic2\", \"Topic2\", \"Topic2\", \"Topic2\", \"Topic2\", \"Topic2\", \"Topic2\", \"Topic2\", \"Topic2\", \"Topic2\", \"Topic2\", \"Topic2\", \"Topic2\", \"Topic2\", \"Topic2\", \"Topic2\", \"Topic2\", \"Topic2\", \"Topic2\", \"Topic2\", \"Topic2\", \"Topic2\", \"Topic2\", \"Topic2\", \"Topic2\", \"Topic2\", \"Topic2\", \"Topic2\", \"Topic2\", \"Topic2\", \"Topic2\", \"Topic2\", \"Topic2\", \"Topic2\", \"Topic2\", \"Topic2\", \"Topic2\", \"Topic2\", \"Topic2\", \"Topic2\", \"Topic2\", \"Topic2\", \"Topic2\", \"Topic2\", \"Topic2\", \"Topic3\", \"Topic3\", \"Topic3\", \"Topic3\", \"Topic3\", \"Topic3\", \"Topic3\", \"Topic3\", \"Topic3\", \"Topic3\", \"Topic3\", \"Topic3\", \"Topic3\", \"Topic3\", \"Topic3\", \"Topic3\", \"Topic3\", \"Topic3\", \"Topic3\", \"Topic3\", \"Topic3\", \"Topic3\", \"Topic3\", \"Topic3\", \"Topic3\", \"Topic3\", \"Topic3\", \"Topic3\", \"Topic3\", \"Topic3\", \"Topic3\", \"Topic3\", \"Topic3\", \"Topic3\", \"Topic3\", \"Topic3\", \"Topic3\", \"Topic3\", \"Topic3\", \"Topic3\", \"Topic3\", \"Topic3\", \"Topic3\", \"Topic3\", \"Topic3\", \"Topic3\", \"Topic3\", \"Topic3\", \"Topic3\", \"Topic3\", \"Topic3\", \"Topic3\", \"Topic3\", \"Topic3\", \"Topic3\", \"Topic3\", \"Topic3\", \"Topic3\", \"Topic3\", \"Topic4\", \"Topic4\", \"Topic4\", \"Topic4\", \"Topic4\", \"Topic4\", \"Topic4\", \"Topic4\", \"Topic4\", \"Topic4\", \"Topic4\", \"Topic4\", \"Topic4\", \"Topic4\", \"Topic4\", \"Topic4\", \"Topic4\", \"Topic4\", \"Topic4\", \"Topic4\", \"Topic4\", \"Topic4\", \"Topic4\", \"Topic4\", \"Topic4\", \"Topic4\", \"Topic4\", \"Topic4\", \"Topic4\", \"Topic4\", \"Topic4\", \"Topic4\", \"Topic4\", \"Topic4\", \"Topic4\", \"Topic4\", \"Topic4\", \"Topic4\", \"Topic4\", \"Topic4\", \"Topic4\", \"Topic4\", \"Topic4\", \"Topic4\", \"Topic4\", \"Topic4\", \"Topic4\", \"Topic4\", \"Topic4\", \"Topic4\", \"Topic4\", \"Topic4\", \"Topic4\", \"Topic4\", \"Topic4\", \"Topic4\", \"Topic4\", \"Topic4\", \"Topic4\", \"Topic4\", \"Topic4\", \"Topic5\", \"Topic5\", \"Topic5\", \"Topic5\", \"Topic5\", \"Topic5\", \"Topic5\", \"Topic5\", \"Topic5\", \"Topic5\", \"Topic5\", \"Topic5\", \"Topic5\", \"Topic5\", \"Topic5\", \"Topic5\", \"Topic5\", \"Topic5\", \"Topic5\", \"Topic5\", \"Topic5\", \"Topic5\", \"Topic5\", \"Topic5\", \"Topic5\", \"Topic5\", \"Topic5\", \"Topic5\", \"Topic5\", \"Topic5\", \"Topic5\", \"Topic5\", \"Topic5\", \"Topic5\", \"Topic5\", \"Topic5\", \"Topic5\", \"Topic5\", \"Topic5\", \"Topic5\", \"Topic5\", \"Topic5\", \"Topic5\", \"Topic5\", \"Topic5\", \"Topic5\", \"Topic5\", \"Topic5\", \"Topic5\", \"Topic5\", \"Topic5\", \"Topic6\", \"Topic6\", \"Topic6\", \"Topic6\", \"Topic6\", \"Topic6\", \"Topic6\", \"Topic6\", \"Topic6\", \"Topic6\", \"Topic6\", \"Topic6\", \"Topic6\", \"Topic6\", \"Topic6\", \"Topic6\", \"Topic6\", \"Topic6\", \"Topic6\", \"Topic6\", \"Topic6\", \"Topic6\", \"Topic6\", \"Topic6\", \"Topic6\", \"Topic6\", \"Topic6\", \"Topic6\", \"Topic6\", \"Topic6\", \"Topic6\", \"Topic6\", \"Topic6\", \"Topic7\", \"Topic7\", \"Topic7\", \"Topic7\", \"Topic7\", \"Topic7\", \"Topic7\", \"Topic7\", \"Topic7\", \"Topic7\", \"Topic7\", \"Topic7\", \"Topic7\", \"Topic7\", \"Topic7\", \"Topic7\", \"Topic7\", \"Topic7\", \"Topic7\", \"Topic7\", \"Topic7\", \"Topic7\", \"Topic7\", \"Topic7\", \"Topic7\", \"Topic7\", \"Topic7\", \"Topic7\", \"Topic7\", \"Topic7\", \"Topic7\", \"Topic7\", \"Topic7\", \"Topic7\", \"Topic7\", \"Topic7\", \"Topic7\", \"Topic7\", \"Topic7\", \"Topic7\", \"Topic7\", \"Topic7\", \"Topic7\", \"Topic7\", \"Topic7\", \"Topic7\", \"Topic8\", \"Topic8\", \"Topic8\", \"Topic8\", \"Topic8\", \"Topic8\", \"Topic8\", \"Topic8\", \"Topic8\", \"Topic8\", \"Topic8\", \"Topic8\", \"Topic8\", \"Topic8\", \"Topic8\", \"Topic8\", \"Topic8\", \"Topic8\", \"Topic8\", \"Topic8\", \"Topic8\", \"Topic8\", \"Topic8\", \"Topic8\", \"Topic8\", \"Topic8\", \"Topic8\", \"Topic8\", \"Topic8\", \"Topic8\", \"Topic8\", \"Topic8\", \"Topic8\", \"Topic8\", \"Topic8\", \"Topic8\", \"Topic8\", \"Topic8\", \"Topic8\", \"Topic8\", \"Topic8\"], \"logprob\": [30.0, 29.0, 28.0, 27.0, 26.0, 25.0, 24.0, 23.0, 22.0, 21.0, 20.0, 19.0, 18.0, 17.0, 16.0, 15.0, 14.0, 13.0, 12.0, 11.0, 10.0, 9.0, 8.0, 7.0, 6.0, 5.0, 4.0, 3.0, 2.0, 1.0, -5.1029, -5.1057, -5.2334, -5.6036, -5.7581, -5.765, -5.9602, -6.2058, -6.2418, -6.2661, -6.2818, -6.2957, -6.2998, -6.3156, -6.3436, -6.3464, -6.3953, -6.4191, -6.451, -6.4621, -6.4767, -6.5793, -6.6082, -6.6195, -6.6849, -6.7098, -6.7349, -6.7697, -6.7831, -6.7835, -6.3469, -6.0784, -4.2558, -5.9633, -6.259, -5.3407, -5.8394, -5.9292, -5.5946, -4.5138, -4.9829, -4.4786, -5.8936, -6.0523, -5.3356, -5.1859, -4.5913, -5.1934, -4.5775, -4.2007, -6.0399, -5.096, -4.526, -5.7626, -4.9161, -5.296, -5.2195, -5.2032, -4.8781, -5.287, -5.0337, -5.514, -5.105, -5.3466, -4.7108, -5.463, -5.1943, -5.3503, -5.0473, -5.0849, -5.2995, -5.0121, -5.1367, -5.1623, -5.3992, -5.4198, -5.4343, -5.6047, -5.6546, -5.7539, -5.8079, -5.8203, -5.8417, -5.9144, -5.9394, -5.9642, -5.9673, -6.0315, -6.0629, -6.0874, -6.0973, -6.1229, -6.127, -6.1432, -6.1478, -6.1679, -6.1965, -6.2007, -6.2087, -6.2139, -6.226, -4.9482, -4.8706, -5.9039, -5.2098, -5.3849, -4.5118, -4.6723, -5.7085, -4.6068, -3.8014, -4.573, -4.8889, -5.79, -4.4917, -5.1192, -5.2969, -5.0727, -4.6536, -5.4092, -5.226, -5.6079, -5.569, -5.2473, -4.9564, -5.6122, -5.4705, -5.3176, -5.5045, -5.5564, -5.5663, -4.3341, -4.3786, -4.4049, -4.7105, -5.0928, -5.2769, -5.3897, -5.453, -5.5728, -5.7037, -5.7061, -5.7258, -5.767, -5.799, -6.0326, -6.0392, -6.0843, -6.1181, -6.184, -6.2743, -6.2738, -6.3747, -6.4163, -6.4536, -6.4569, -6.4972, -6.5268, -6.5287, -6.5373, -6.5397, -4.894, -5.7813, -4.2918, -5.7569, -5.8316, -6.2027, -5.253, -4.2746, -5.7966, -5.1533, -4.2896, -4.6757, -4.2448, -5.5149, -4.8153, -4.9087, -4.7155, -4.6962, -5.1359, -5.2015, -4.7033, -4.9782, -5.2012, -5.3508, -5.2776, -5.4741, -5.3245, -5.4381, -5.4655, -4.8767, -5.363, -5.7649, -5.7629, -5.7833, -5.7927, -5.7951, -5.8658, -5.9593, -5.6918, -5.977, -5.9871, -6.0119, -6.0374, -6.0534, -6.0878, -6.0926, -6.1023, -6.1488, -6.1756, -6.1713, -6.1924, -6.2094, -6.3041, -6.3362, -6.4149, -6.4793, -6.487, -6.4914, -6.4963, -5.8043, -5.9538, -5.6001, -5.8027, -5.0467, -5.3781, -5.3517, -5.8206, -5.4484, -5.5071, -5.3783, -5.0023, -5.331, -5.445, -5.2149, -5.7485, -5.5201, -5.5993, -5.5979, -5.1885, -5.5438, -5.6671, -5.473, -5.5201, -5.6623, -5.5541, -5.6144, -5.7331, -5.72, -5.7014, -5.7403, -4.2559, -4.3089, -5.1465, -5.1763, -5.1806, -5.297, -5.2999, -5.4791, -5.5327, -5.5619, -5.6625, -5.6652, -5.75, -5.7509, -5.9178, -5.9742, -5.9844, -6.0007, -6.0245, -6.0443, -6.0596, -6.0756, -6.0839, -6.0935, -6.098, -6.1337, -6.1396, -6.1716, -6.1679, -6.2234, -4.2659, -5.0148, -5.4363, -5.5393, -4.2321, -4.6863, -4.3393, -5.2456, -5.2314, -5.2874, -5.7868, -4.7965, -4.4755, -5.2852, -5.5113, -4.7696, -4.5117, -5.4802, -5.6172, -5.4424, -5.579, -0.5535, -2.8577, -4.0035, -4.6291, -4.8732, -5.2721, -5.6945, -5.7874, -5.7944, -5.8805, -5.9095, -6.0013, -6.1213, -6.2685, -6.278, -6.2657, -6.3134, -6.5359, -6.5328, -6.5608, -6.5416, -6.5172, -6.612, -6.6286, -6.6376, -6.6451, -6.6725, -6.6426, -6.7429, -6.8599, -6.4203, -5.3835, -6.5228, -4.6652, -4.8245, -4.8441, -4.862, -5.0178, -5.0889, -5.1425, -5.1878, -5.2109, -5.2187, -5.2395, -5.327, -5.3264, -5.3405, -5.3615, -5.5043, -5.6282, -5.651, -5.7463, -5.7788, -5.7995, -5.8345, -5.8517, -5.8741, -5.8747, -5.8935, -5.898, -5.9461, -5.9472, -5.9883, -4.8239, -4.0209, -5.0458, -5.3382, -5.667, -5.0494, -5.0483, -5.2472, -5.4324, -4.8735, -5.3316, -4.9833, -5.5811, -5.0649, -5.4279, -5.4123, -3.4276, -3.4947, -3.9578, -4.1498, -4.2413, -4.4, -4.4201, -4.494, -4.6151, -4.6473, -4.9286, -5.1646, -5.1922, -5.2182, -5.2198, -5.2279, -5.237, -5.2982, -5.2895, -5.3082, -5.3208, -5.3354, -5.3453, -5.4004, -5.4078, -5.4234, -5.4325, -5.4834, -5.5444, -5.5806, -4.9474, -4.3893, -4.2385, -4.6972, -4.5753, -5.1083, -5.344, -5.0, -5.2566, -5.2306, -5.2096], \"loglift\": [30.0, 29.0, 28.0, 27.0, 26.0, 25.0, 24.0, 23.0, 22.0, 21.0, 20.0, 19.0, 18.0, 17.0, 16.0, 15.0, 14.0, 13.0, 12.0, 11.0, 10.0, 9.0, 8.0, 7.0, 6.0, 5.0, 4.0, 3.0, 2.0, 1.0, 1.0492, 1.0492, 1.0492, 1.049, 1.0489, 1.0488, 1.0487, 1.0484, 1.0484, 1.0484, 1.0483, 1.0483, 1.0483, 1.0483, 1.0483, 1.0482, 1.0482, 1.0481, 1.0481, 1.0481, 1.0481, 1.0479, 1.0478, 1.0478, 1.0477, 1.0477, 1.0476, 1.0475, 1.0475, 1.0475, 1.0448, 1.0373, 0.9941, 1.0263, 1.0344, 1.0017, 1.0135, 1.0177, 0.9996, 0.9169, 0.9318, 0.8788, 1.0006, 1.0134, 0.9042, 0.8571, 0.7352, 0.8379, 0.7149, 0.6105, 0.993, 0.7786, 0.622, 0.924, 0.7071, 0.7995, 0.7662, 0.6891, 0.5168, 0.6961, 0.5595, 0.795, 0.5352, 0.6608, -0.1753, 0.6945, 0.3494, 0.5355, 0.0255, -0.0089, 0.3693, 1.3199, 1.3198, 1.3198, 1.3196, 1.3196, 1.3196, 1.3195, 1.3194, 1.3193, 1.3193, 1.3193, 1.3193, 1.3192, 1.3191, 1.3191, 1.3191, 1.319, 1.319, 1.319, 1.3189, 1.3189, 1.3189, 1.3189, 1.3189, 1.3188, 1.3188, 1.3188, 1.3188, 1.3188, 1.3188, 1.29, 1.2658, 1.3019, 1.2234, 1.2312, 1.0857, 1.1057, 1.2328, 0.9681, 0.7342, 0.8959, 0.9763, 1.2176, 0.5811, 0.8878, 0.9416, 0.7982, 0.4224, 0.9421, 0.7958, 1.0553, 0.9694, 0.4006, -0.1452, 0.9614, 0.5371, -0.0252, 0.1642, 0.3294, -0.4183, 2.1919, 2.1919, 2.1918, 2.1916, 2.1912, 2.191, 2.1908, 2.1907, 2.1905, 2.1902, 2.1902, 2.1902, 2.1901, 2.19, 2.1894, 2.1893, 2.1892, 2.1891, 2.1889, 2.1885, 2.1885, 2.1881, 2.1879, 2.1877, 2.1877, 2.1875, 2.1874, 2.1874, 2.1873, 2.1873, 2.0298, 2.0149, 1.5634, 1.9726, 1.9854, 2.0949, 1.6184, 1.1203, 1.8674, 1.4687, 0.7864, 0.868, 0.2908, 1.5008, 0.6536, 0.7315, 0.4325, 0.3766, 0.9427, 1.037, 0.108, 0.5967, 0.7819, 0.6567, 0.3156, 1.0121, 0.1062, 0.4542, 0.1576, 2.3567, 2.356, 2.3551, 2.355, 2.355, 2.355, 2.355, 2.3548, 2.3545, 2.3544, 2.3544, 2.3544, 2.3543, 2.3542, 2.3541, 2.354, 2.3539, 2.3539, 2.3537, 2.3536, 2.3536, 2.3536, 2.3535, 2.3531, 2.3529, 2.3525, 2.3521, 2.3521, 2.3521, 2.352, 2.349, 2.3489, 2.3292, 2.2871, 2.2067, 2.2102, 2.1598, 2.2412, 2.0543, 1.9973, 1.8916, 1.6171, 1.7287, 1.8143, 1.5672, 2.0334, 1.7599, 1.8053, 1.5524, 0.6668, 1.4257, 1.6516, 1.1006, 1.2198, 1.5484, 0.746, 0.0335, 1.4747, 1.2406, 0.7015, 0.8133, 2.6969, 2.6969, 2.6957, 2.6956, 2.6956, 2.6953, 2.6953, 2.6949, 2.6947, 2.6946, 2.6943, 2.6943, 2.6939, 2.6939, 2.6932, 2.693, 2.6929, 2.6928, 2.6927, 2.6926, 2.6925, 2.6925, 2.6924, 2.6924, 2.6923, 2.6921, 2.6921, 2.6919, 2.6919, 2.6916, 2.6505, 2.6456, 2.6062, 2.613, 2.4086, 2.4653, 2.3614, 2.4444, 2.4164, 2.397, 2.5876, 2.063, 1.8812, 2.2907, 2.3641, 1.2691, 0.8456, 2.0187, 2.3178, 0.8576, 1.3163, 3.0879, 3.0876, 3.087, 3.0863, 3.0858, 3.0848, 3.0832, 3.0827, 3.0825, 3.0822, 3.0817, 3.0814, 3.0805, 3.0794, 3.0794, 3.0793, 3.0789, 3.0769, 3.0769, 3.0766, 3.0765, 3.0764, 3.076, 3.0758, 3.0757, 3.0756, 3.0752, 3.0746, 3.0742, 3.0727, 2.6852, 0.2852, 2.4164, 3.1492, 3.1488, 3.1488, 3.1487, 3.1483, 3.1481, 3.1479, 3.1478, 3.1477, 3.1477, 3.1476, 3.1472, 3.1472, 3.1472, 3.1471, 3.1465, 3.1458, 3.1457, 3.1451, 3.1449, 3.1448, 3.1446, 3.1445, 3.1443, 3.1443, 3.1442, 3.1441, 3.1438, 3.1438, 3.1435, 3.0103, 2.8044, 2.8073, 2.7827, 2.9666, 2.4795, 2.4073, 2.4805, 2.6063, 1.7672, 2.0773, 1.0953, 2.668, 0.7904, 2.0323, 1.8607, 3.8685, 3.8684, 3.8676, 3.8672, 3.8669, 3.8664, 3.8664, 3.8661, 3.8657, 3.8655, 3.8641, 3.8627, 3.8625, 3.8623, 3.8623, 3.8622, 3.8621, 3.8617, 3.8617, 3.8616, 3.8615, 3.8614, 3.8613, 3.8608, 3.8607, 3.8606, 3.8605, 3.86, 3.8594, 3.8591, 3.7785, 3.5044, 2.9403, 2.8688, 2.4832, 3.3243, 3.7327, 2.8615, 3.0755, 2.6775, 1.344]}, \"token.table\": {\"Topic\": [6, 1, 1, 3, 6, 1, 2, 3, 4, 7, 5, 4, 4, 2, 7, 1, 2, 4, 5, 7, 1, 3, 4, 5, 7, 1, 2, 3, 7, 1, 1, 5, 7, 2, 4, 6, 1, 2, 3, 3, 8, 3, 1, 1, 6, 1, 2, 3, 3, 1, 2, 1, 2, 3, 5, 6, 7, 4, 8, 8, 6, 6, 4, 7, 4, 3, 3, 2, 3, 4, 5, 7, 1, 2, 4, 5, 1, 4, 5, 8, 2, 3, 4, 5, 7, 1, 1, 5, 2, 2, 1, 1, 6, 5, 7, 5, 7, 1, 1, 3, 2, 2, 5, 1, 2, 1, 2, 3, 5, 2, 1, 1, 4, 5, 8, 5, 6, 4, 5, 1, 2, 2, 3, 4, 1, 5, 7, 5, 5, 5, 5, 6, 8, 1, 5, 4, 4, 8, 2, 4, 8, 1, 2, 3, 4, 1, 2, 4, 3, 5, 2, 3, 2, 1, 4, 5, 1, 7, 3, 4, 4, 1, 4, 6, 2, 2, 3, 4, 2, 8, 7, 1, 2, 3, 5, 1, 5, 1, 7, 1, 1, 5, 1, 3, 5, 2, 3, 5, 5, 1, 2, 3, 4, 7, 8, 4, 1, 3, 5, 7, 3, 5, 8, 6, 1, 2, 3, 5, 5, 1, 2, 3, 7, 1, 2, 3, 5, 1, 3, 1, 1, 2, 3, 5, 7, 8, 2, 1, 7, 4, 5, 1, 2, 4, 8, 5, 1, 3, 6, 6, 2, 4, 3, 1, 2, 6, 2, 3, 4, 5, 3, 3, 5, 1, 2, 3, 6, 8, 5, 2, 6, 3, 8, 6, 5, 2, 4, 8, 1, 2, 4, 5, 7, 8, 2, 3, 4, 2, 2, 4, 7, 7, 7, 2, 7, 6, 7, 8, 8, 2, 5, 1, 2, 3, 6, 5, 7, 1, 2, 3, 4, 5, 7, 7, 1, 5, 1, 3, 4, 7, 7, 2, 5, 1, 2, 3, 4, 5, 1, 2, 3, 4, 5, 1, 5, 1, 2, 3, 6, 6, 1, 2, 3, 4, 1, 3, 2, 3, 4, 1, 2, 3, 6, 2, 2, 1, 2, 3, 4, 5, 1, 5, 7, 1, 2, 3, 4, 4, 1, 1, 2, 4, 2, 6, 5, 7, 5, 1, 7, 7, 4, 3, 6, 5, 6, 1, 2, 3, 4, 6, 1, 2, 3, 4, 1, 2, 3, 4, 8, 1, 2, 3, 7, 7, 1, 2, 8, 1, 2, 7, 1, 2, 3, 6, 2, 3, 3, 1, 7, 3, 1, 5, 1, 2, 4, 7, 1, 4, 5, 2, 8, 1, 2, 3, 2, 3, 3, 3, 1, 2, 3, 5, 4, 5, 7, 5, 1, 2, 3, 4, 5, 7, 2, 3, 7, 8, 8, 1, 2, 4, 4, 2, 4, 2, 5, 1, 1, 2, 4, 7, 2, 4, 5, 1, 2, 6, 6, 3, 7, 8, 2, 3, 4, 5, 5, 1, 8, 1, 4, 8, 1, 1, 2, 3, 4, 5, 7, 2, 4, 1, 2, 3, 4, 3, 3, 1, 2, 3, 5, 2, 4, 5, 6, 7, 8, 2, 3, 7, 1, 2, 3, 3, 4, 5, 8, 7, 3, 1, 3, 5, 1, 4, 4, 3, 2, 3, 8, 1, 2, 3, 1, 2, 3, 4, 8, 1, 2, 3, 8, 1, 2, 3, 7, 1, 8, 1, 2, 4, 5, 7, 8, 3, 5, 8, 4, 6, 7, 1, 4, 5, 2, 5, 7, 5, 2, 7, 1, 3, 8, 3, 1, 2, 5, 7, 1, 1, 4, 7, 8, 6, 4, 1, 2, 4, 1, 2, 3, 4, 5, 1, 3, 3, 1, 2, 3, 5, 7, 4, 1, 2, 3, 1, 2, 3, 1, 3, 1, 2, 3, 4, 5, 3, 4, 4, 5, 1, 2, 4, 7, 1, 4, 4, 7, 7, 5, 1, 8, 1, 2, 4, 5, 7, 8, 2, 1, 2, 8, 7, 6, 7, 1, 2, 3, 1, 5, 7, 1, 2, 3, 7, 5, 1, 2, 3, 4, 1, 2, 3, 4, 8, 2, 3, 2, 8, 3, 4, 7, 6, 1, 2, 1, 2, 4, 7, 7, 1, 2, 3, 1, 2, 1, 3, 4, 5, 7], \"Freq\": [0.9996385920980773, 0.9992827742905132, 0.9874202853239941, 0.01149276762743737, 0.992976915871704, 0.442732453297061, 0.3985916304359383, 0.04414082286112273, 0.09777192263738686, 0.016552808572921025, 0.9947959412823495, 0.9954647317319111, 0.9967490195386466, 0.9985876751637129, 0.9971993870414759, 0.03811116830117324, 0.24884351067236646, 0.3284285974189341, 0.10984983804455817, 0.2746245951113954, 0.9992850374085883, 0.06744323417263033, 0.033721617086315166, 0.8969950144959835, 0.9970288315774897, 0.6521135441401371, 0.1757801444171628, 0.1720315960213665, 0.9952605102427888, 0.9983249628894214, 0.16361440041434985, 0.3243329707328705, 0.511114011913854, 0.9162902347402238, 0.08286031095543726, 0.9999825715028973, 0.507773528688966, 0.1847377059149806, 0.30721574298568594, 0.9931260696013369, 0.9920676380481067, 0.99667221880914, 0.9991400573148144, 0.9997328103803419, 0.9909750500373717, 0.33623193086168085, 0.16204992544106783, 0.5008815877269369, 0.998601848128578, 0.08485186343259722, 0.9147728290610139, 0.013044409662102347, 0.12881354541326068, 0.10272472608905599, 0.7549452091941733, 0.9858211780154092, 0.9928334250119949, 0.30443186658637506, 0.6943548737894718, 0.9899990904535919, 0.9771219118883363, 0.9993147555495877, 0.9956278397521052, 0.9957119408248116, 0.9966504693094269, 0.9968013745032236, 0.9991902221546316, 0.9992829954353765, 0.14112551953641198, 0.1456779556504898, 0.6661731513600523, 0.04552436114077806, 0.4270775578154131, 0.2143861550144832, 0.19955707314589244, 0.158883020020615, 0.5743093436849408, 0.3939066968213715, 0.03144633293952126, 0.9906427816918086, 0.19870779032050842, 0.10678854037632765, 0.23926040058999995, 0.12841659918672313, 0.32712438950723155, 0.9979748736401214, 0.045515467526129554, 0.9534705697284035, 0.9988482047383476, 0.9982825392630881, 0.9994929073575655, 0.9976618909973067, 0.9853288572667633, 0.912266614943497, 0.08469318706371988, 0.16605353287148603, 0.8302676643574302, 0.9992860292948946, 0.9977787653939538, 0.9941101724435744, 0.998933490908324, 0.9990270953682844, 0.9929205179446655, 0.09713998483198312, 0.9026281776423211, 0.762468744763381, 0.08333445612700716, 0.13815247045640056, 0.015780943519067798, 0.9992078671082477, 0.9981639752530171, 0.24537672673215763, 0.36594977348847646, 0.0824973477806392, 0.3024902751956771, 0.9956920659906987, 0.9950201180800309, 0.9968993559975122, 0.9966034812712845, 0.016768871085496503, 0.982027012944389, 0.4659742113000275, 0.08625480081511147, 0.44713695594960085, 0.27679599758757506, 0.5072251529396681, 0.2149735412735989, 0.9977828135713082, 0.9977257648981723, 0.9980366678535941, 0.9916670838794378, 0.9979112629986595, 0.9935578417102817, 0.20649810349309394, 0.7922379162860046, 0.9975532901675184, 0.9951317368900403, 0.9959406856257477, 0.9984455457720885, 0.6339761715060316, 0.3654448631929672, 0.00945654537217726, 0.1531960350292716, 0.8378499199749052, 0.9958058087824774, 0.29520294171177097, 0.703862751731709, 0.9981276984174327, 0.9947237585490941, 0.9929506400974316, 0.9471245762729331, 0.05287782480521123, 0.9991921569051352, 0.020412157801237292, 0.2024205648622698, 0.775661996447017, 0.5234062419570487, 0.4749676180227203, 0.0659649405555899, 0.9311205070731343, 0.9956926238719119, 0.13519721132722232, 0.8634185541579426, 0.9897527715787433, 0.9985456784409424, 0.9987663327726177, 0.9978662330038317, 0.9931933211211318, 0.9981235036577146, 0.9908666091900092, 0.9929258868334081, 0.8092283440189036, 0.062497427129111, 0.102327393641446, 0.025905669276315442, 0.9995792578086057, 0.9949791166081184, 0.9988312371713738, 0.9957985783314863, 0.999288554826769, 0.951233967764286, 0.04832928108784478, 0.9993733987858686, 0.9972968046570825, 0.9942508133465852, 0.9997068450401823, 0.049541016759800376, 0.9495361545628406, 0.9972762028494784, 0.4196456378723451, 0.15787639288886768, 0.28655414107140714, 0.007808939863320337, 0.12799870993355508, 0.9934027711500533, 0.997002263234334, 0.3929082332253312, 0.030816332017673035, 0.23369051780068717, 0.3415476798625428, 0.9994428247897058, 0.9953794784107419, 0.9953549625791919, 0.9941871055784368, 0.3469431783726914, 0.40736236742502724, 0.24516487434019987, 0.0003737269425917681, 0.993846802469049, 0.6778909252965966, 0.18781119851967276, 0.12236184145978679, 0.012014857817756843, 0.5869414661396904, 0.05466695699228066, 0.34222543295794505, 0.015937388715617874, 0.18539982798798427, 0.8130554956556394, 0.9989289460118037, 0.49656584092010736, 0.2374447793586737, 0.2658824706889001, 0.7487029299111089, 0.2507588969710237, 0.9911909894092499, 0.9989847106778486, 0.12968390337647218, 0.8684891710969802, 0.9724123890156415, 0.025930997040417108, 0.6249767415513444, 0.1835957219733852, 0.19063903611558666, 0.9865175470989689, 0.9993437462227238, 0.2767657960633838, 0.7225741741535051, 0.9847458368386057, 0.9879847802623347, 0.9983478699437894, 0.996589450574124, 0.995308672027542, 0.3143797915607029, 0.6849466096982123, 0.9815746746456344, 0.3562664253970379, 0.15918287092208075, 0.47696552532696723, 0.007580136710575274, 0.9975425505588513, 0.9984910940234863, 0.9967320102753785, 0.09396219321921451, 0.7030751881271793, 0.20269573559079462, 0.989185372531468, 0.9895085333622713, 0.992332440554817, 0.32926035414606125, 0.6655262477420387, 0.9966020713213027, 0.989899029685845, 0.984958946454069, 0.9929671914756741, 0.9989394147183186, 0.9932831410689841, 0.9920858968024584, 0.07206844909062055, 0.5787314851216498, 0.2134754817760048, 0.026752681859397023, 0.02893657425608249, 0.08025804557819106, 0.07825985801704496, 0.09960345565805723, 0.8210170559242718, 0.9988684437111167, 0.6984231552458002, 0.2846046509813428, 0.016708687924540673, 0.9949798399627361, 0.9957644871230859, 0.9980643547309052, 0.9931048641238756, 0.9934908380349629, 0.9978206851276809, 0.997759872460295, 0.9886883943625909, 0.9995018301011346, 0.9988174081737494, 0.7154877513280288, 0.2604585761427584, 0.023973325001263396, 0.9889446111497063, 0.3061898392560384, 0.6908898937059328, 0.3414161549575662, 0.09295405588741958, 0.4846472473627096, 0.009353867259111404, 0.011692334073889254, 0.05904628707314074, 0.9966671554125451, 0.285234241386477, 0.7140342761093847, 0.40538618793687536, 0.1795881817026054, 0.41378797421535984, 0.9980759425264921, 0.9939082138947747, 0.0783142721968638, 0.91816732920461, 0.35101927602431066, 0.17550963801215533, 0.12220063581220161, 0.32723525965817746, 0.024604154861517104, 0.15540596909026425, 0.10172027067726387, 0.04520900918989505, 0.697914079369005, 0.9959296461026456, 0.9684104078772955, 0.030743187551660174, 0.2938206555643896, 0.5565103994871088, 0.14934129640689398, 0.00036283113801480557, 0.9908447269944267, 0.327609840085734, 0.45694615726243787, 0.21534971148492746, 0.9929275898347407, 0.9849897448753232, 0.013728080067948756, 0.21119937069175726, 0.16091380624133886, 0.6268933701485494, 0.5063770753220768, 0.3148236645415849, 0.11808704382232676, 0.0606210205881792, 0.9990777933681362, 0.9992301062797684, 0.7302647864807889, 0.17412406041882494, 0.09250340709750075, 0.0014403644703763093, 0.0014403644703763093, 0.8818102507426773, 0.05051388282189311, 0.06735184376252415, 0.8250205280527132, 0.11631544378821015, 0.024246036169936765, 0.03440315943031568, 0.9972312745286097, 0.9988744239426068, 0.9534398151160887, 0.04641223022122824, 0.9960578944189774, 0.9986142967181296, 0.9942610374012479, 0.41701562255919233, 0.5809292776691639, 0.9954921726343242, 0.9989840986428924, 0.9958343175115091, 0.9957793515127531, 0.9960083748422228, 0.9963369259246995, 0.9921610765141212, 0.9979189735569575, 0.9817241608820945, 0.25262399737939883, 0.7090478102342519, 0.03840104194692273, 0.9918410475177536, 0.996445037101708, 0.2537422159804366, 0.5918513128747226, 0.10072699850550834, 0.05325057882775282, 0.15828263132459866, 0.2768070661553408, 0.5633661427714388, 0.0015003093016549634, 0.9975256485027807, 0.1310196535885644, 0.6541755943260011, 0.21461388327253578, 0.9953825885132523, 0.9948629837792028, 0.11719665235048214, 0.5138622449213448, 0.3681176900752324, 0.97690833655867, 0.021952996327161127, 0.9953136937383783, 0.3591139161751529, 0.4774526305993994, 0.16266916673217507, 0.0006208746821838744, 0.09056549055360769, 0.9056549055360769, 0.9978420229481065, 0.998324048210063, 0.9921790903501163, 0.9967786681323596, 0.8429310651543588, 0.15696640747244864, 0.99460577794955, 0.003786570220620114, 0.9920625193671876, 0.005406335255407017, 0.7460596641177013, 0.0023050247089115385, 0.2512476932713577, 0.9986502010345478, 0.9984744618459082, 0.07431831759683868, 0.12209437890909214, 0.8033456235467801, 0.9980403541864401, 0.9994376774299375, 0.9985436976115695, 0.9960315748589001, 0.7786414086758818, 0.10669631719771507, 0.11429281874577245, 0.9970230415010735, 0.23798506622572746, 0.14576585306325807, 0.6157863588590698, 0.9962027831023033, 0.1399651864340626, 0.20514505266561137, 0.09056570886909933, 0.4535146482005656, 0.09193791657923721, 0.01852480408686123, 0.5716636719504828, 0.15286576037916394, 0.02442234041560607, 0.2496505909150843, 0.9922168222561605, 0.3198226252686127, 0.6488101281387963, 0.03097096568806724, 0.9968308354608948, 0.9074930755911693, 0.09195929832657183, 0.25878416696932816, 0.7408331054416062, 0.9988122305711691, 0.319019616525781, 0.35125046438096297, 0.32033516133619655, 0.008551041267701346, 0.25203916741159005, 0.217198458975282, 0.5300235432331967, 0.7009663689976233, 0.2986822106892389, 0.990560794917121, 0.9959468258785641, 0.47194777180785413, 0.07434793665466195, 0.4525526578979423, 0.22248442206790586, 0.028130214284447865, 0.5753907467273427, 0.17389587012204136, 0.9981869161088384, 0.9996757678488756, 0.997310118548296, 0.054268784053825854, 0.8905014110650515, 0.05180202114228832, 0.9989211095760897, 0.9984130027769085, 0.11592683590273153, 0.06520884519528648, 0.5334445808336631, 0.19653221399134954, 0.08785080533253874, 0.13959519072334614, 0.8595546389421787, 0.2212495675855194, 0.18061189190654645, 0.04741062162546844, 0.5497374459905507, 0.9975008129512509, 0.9974574383783762, 0.5644025084166158, 0.06557508912817327, 0.13017144558279173, 0.23978950502093213, 0.998649689765582, 0.7234815893690104, 0.2759672041923029, 0.9971824332761567, 0.9928290406079192, 0.9881578440582676, 0.6848228153910513, 0.3147236906101981, 0.9924695734694317, 0.7023311969956001, 0.05369315829403973, 0.24408786327922657, 0.05732985890304126, 0.22522444569051922, 0.7166232362880157, 0.9990930716241326, 0.994932378207225, 0.9934539159122326, 0.9460380969735728, 0.02505177661995202, 0.02890589609994464, 0.41795608725218997, 0.5804945656280416, 0.9961188806804748, 0.9977780633787581, 0.9980149441559513, 0.9987007482545399, 0.9953973177294755, 0.709896313386848, 0.15911840327354584, 0.13069671283767567, 0.7750800098085855, 0.17699014013279338, 0.04745387815154605, 0.41819573565754226, 0.5790402493719816, 0.05917263907402093, 0.30504515660572856, 0.240771427956361, 0.3948243331318293, 0.11270464315287666, 0.7670007877268741, 0.04264500011189928, 0.07737021448873155, 0.9992874798815844, 0.99714624985015, 0.024640208717273168, 0.44000372709416374, 0.49397751761771447, 0.037546984712035304, 0.00352002981675331, 0.990434350584835, 0.3151162916479838, 0.684562978407689, 0.991105524156757, 0.9948520851843923, 0.9974366265921786, 0.9941536487515266, 0.9986263051125724, 0.9959326099905785, 0.9952003569753688, 0.9987502296699787, 0.28831824776841086, 0.7087823590973433, 0.9934018843816971, 0.2922934686224883, 0.7070922880646959, 0.9985578896349415, 0.9946188460883898, 0.9882575627444731, 0.9971904491241302, 0.4201102242160505, 0.05380280352820283, 0.44207970232339994, 0.08384270216478275, 0.9989128050538619, 0.260911037891813, 0.7376025557698282, 0.12251053585290857, 0.8711860327317942, 0.9928436208030009, 0.9966959098494471, 0.13422843257233621, 0.8068787800696615, 0.05856783668418415, 0.6974557355835027, 0.07693148113708939, 0.17584338545620432, 0.0019726020804381895, 0.047906050524927454, 0.9647411730068772, 0.03461285124528491, 0.9995011975714783, 0.8647469719725879, 0.1152730050277112, 0.014758135591783097, 0.004786422354091815, 0.9943269359055616, 0.9987257125771675, 0.009957159671900787, 0.9702256384300126, 0.01951603295692554, 0.8886985126885713, 0.09250072067867425, 0.018442511287959974, 0.8756171031077297, 0.12414936208363145, 0.6126770561888554, 0.18493151252630866, 0.15316926404721384, 0.047016486235502204, 0.002298583771513441, 0.9969250269077293, 0.9966695481146837, 0.9975410580990153, 0.995587038658117, 0.9524437730211912, 0.046816333726263225, 0.9919766870187465, 0.006278333462143965, 0.9991822289905576, 0.9941203545802253, 0.9967277105736492, 0.9964457323278075, 0.9968252798500137, 0.9962375056505518, 0.9988369234967444, 0.9976567017964554, 0.12800583641303168, 0.7909081925257645, 0.05267125399946057, 0.028329160517638157, 0.08146912921630982, 0.9105373265352275, 0.9979439471881361, 0.9974884653508032, 0.9987695989587994, 0.9940370969133878, 0.9986216129114002, 0.5101077781721057, 0.4863818350013101, 0.5980154785025921, 0.37123994592436194, 0.03051670747040381, 0.15366447092836363, 0.333822816154721, 0.5104486448080124, 0.7530632879880608, 0.17047570734651663, 0.06033169316256033, 0.015469664913477007, 0.9965425422022887, 0.15798037221515726, 0.09373502084765997, 0.3022691121716676, 0.44550464964674347, 0.5979199816642802, 0.16645391430946993, 0.23194038849174822, 0.0035042929328309457, 0.9911318582998985, 0.14940910098864824, 0.8498136696444277, 0.9995862488144879, 0.9974194577250388, 0.9955605933066025, 0.9979768911995318, 0.9970534548109903, 0.9912919878137176, 0.9647847133996991, 0.034619281500650204, 0.3229908168210408, 0.5932991007532525, 0.06040562671546365, 0.023169281479903867, 0.9956715479881182, 0.6446048141483876, 0.2309602893344957, 0.12437058626828597, 0.9451140626778282, 0.053779811402376414, 0.14310809319294346, 0.5330572807167894, 0.18438405176092715, 0.045077691593982186, 0.09422866857296276], \"Term\": [\"_\", \"accept\", \"agree\", \"agree\", \"ai\", \"also\", \"also\", \"also\", \"also\", \"also\", \"amendment\", \"analysis\", \"announce\", \"application\", \"arab\", \"area\", \"area\", \"area\", \"area\", \"area\", \"argument\", \"arm\", \"arm\", \"arm\", \"armenian\", \"article\", \"article\", \"article\", \"astronomy\", \"atheist\", \"attack\", \"attack\", \"attack\", \"available\", \"available\", \"ax\", \"back\", \"back\", \"back\", \"ball\", \"band\", \"baseball\", \"belief\", \"believe\", \"bhj\", \"big\", \"big\", \"big\", \"bike\", \"bit\", \"bit\", \"black\", \"black\", \"black\", \"black\", \"bo\", \"border\", \"box\", \"box\", \"buyer\", \"bxn\", \"c\", \"cable\", \"cambridge\", \"cap\", \"capable\", \"car\", \"card\", \"carry\", \"carry\", \"carry\", \"carry\", \"case\", \"case\", \"case\", \"case\", \"cause\", \"cause\", \"cause\", \"cd\", \"center\", \"center\", \"center\", \"center\", \"center\", \"certainly\", \"child\", \"child\", \"chip\", \"choose\", \"christian\", \"church\", \"ci\", \"citizen\", \"citizen\", \"civilian\", \"civilian\", \"claim\", \"clear\", \"coach\", \"code\", \"color\", \"colorado\", \"com\", \"com\", \"come\", \"come\", \"come\", \"come\", \"computer\", \"conclusion\", \"condition\", \"condition\", \"condition\", \"condition\", \"constitution\", \"conversion\", \"convert\", \"cop\", \"copy\", \"copy\", \"cost\", \"cost\", \"cost\", \"country\", \"country\", \"country\", \"court\", \"crime\", \"criminal\", \"cub\", \"cx\", \"daughter\", \"death\", \"death\", \"degree\", \"diagnosis\", \"direct\", \"disk\", \"distribution\", \"distribution\", \"division\", \"division\", \"division\", \"dn\", \"do\", \"do\", \"doctor\", \"dog\", \"dream\", \"drive\", \"drive\", \"driver\", \"drug\", \"drug\", \"drug\", \"earth\", \"earth\", \"eat\", \"eat\", \"eeg\", \"effect\", \"effect\", \"ei\", \"email\", \"encryption\", \"engine\", \"ensure\", \"entry\", \"ethernet\", \"ethnic\", \"even\", \"even\", \"even\", \"even\", \"evidence\", \"examine\", \"existence\", \"expansion\", \"explain\", \"fact\", \"fact\", \"faith\", \"fan\", \"father\", \"file\", \"fire\", \"fire\", \"firearm\", \"first\", \"first\", \"first\", \"first\", \"first\", \"floppy\", \"food\", \"force\", \"force\", \"force\", \"force\", \"game\", \"gang\", \"gateway\", \"gb\", \"get\", \"get\", \"get\", \"get\", \"girl\", \"give\", \"give\", \"give\", \"give\", \"go\", \"go\", \"go\", \"go\", \"goal\", \"goal\", \"god\", \"good\", \"good\", \"good\", \"government\", \"government\", \"grade\", \"graphic\", \"greek\", \"greek\", \"ground\", \"ground\", \"group\", \"group\", \"group\", \"guide\", \"gun\", \"guy\", \"guy\", \"gw\", \"gy\", \"hardware\", \"health\", \"helmet\", \"help\", \"help\", \"hh\", \"high\", \"high\", \"high\", \"high\", \"hit\", \"hockey\", \"honest\", \"host\", \"host\", \"host\", \"hst\", \"human_being\", \"husband\", \"hz\", \"hz\", \"ice\", \"icon\", \"ij\", \"illegal\", \"image\", \"improve\", \"inch\", \"include\", \"include\", \"include\", \"include\", \"include\", \"include\", \"increase\", \"increase\", \"increase\", \"info\", \"information\", \"information\", \"information\", \"inhabitant\", \"international\", \"internet\", \"invasion\", \"ip\", \"israeli\", \"item\", \"jet\", \"key\", \"kill\", \"know\", \"know\", \"know\", \"kp\", \"land\", \"land\", \"last\", \"last\", \"last\", \"last\", \"last\", \"last\", \"launch\", \"law\", \"law\", \"lead\", \"lead\", \"lead\", \"lebanese\", \"lebanese_resistance\", \"legal\", \"legal\", \"less\", \"less\", \"less\", \"less\", \"less\", \"level\", \"level\", \"level\", \"level\", \"liar\", \"life\", \"life\", \"line\", \"line\", \"line\", \"line\", \"lk\", \"look\", \"look\", \"look\", \"los_angele\", \"love\", \"love\", \"low\", \"low\", \"low\", \"m\", \"m\", \"m\", \"m\", \"machine\", \"mail\", \"make\", \"make\", \"make\", \"make\", \"make\", \"man\", \"man\", \"man\", \"many\", \"many\", \"many\", \"many\", \"material\", \"matter\", \"mean\", \"mean\", \"medical\", \"memory\", \"mf\", \"military\", \"military\", \"militia\", \"mind\", \"mission\", \"moon\", \"motif\", \"motorcycle\", \"mu\", \"murder\", \"n\", \"need\", \"need\", \"need\", \"negative\", \"nei\", \"new\", \"new\", \"new\", \"new\", \"next\", \"next\", \"next\", \"next\", \"nhl\", \"nntp_poste\", \"nntp_poste\", \"nntp_poste\", \"northern\", \"occupy\", \"offer\", \"offer\", \"offer\", \"opinion\", \"opinion\", \"orbit\", \"organization\", \"organization\", \"organization\", \"organization\", \"owner\", \"owner\", \"pack\", \"patient\", \"patrol\", \"pen\", \"people\", \"people\", \"perhaps\", \"perhaps\", \"period\", \"period\", \"person\", \"person\", \"person\", \"phone\", \"physical\", \"pick\", \"pick\", \"pick\", \"pin\", \"play\", \"player\", \"playoff\", \"point\", \"point\", \"point\", \"police\", \"policy\", \"policy\", \"policy\", \"possess\", \"power\", \"power\", \"power\", \"power\", \"power\", \"power\", \"price\", \"price\", \"price\", \"price\", \"probe\", \"problem\", \"problem\", \"problem\", \"procedure\", \"program\", \"program\", \"protect\", \"protect\", \"prove\", \"provide\", \"provide\", \"provide\", \"provide\", \"public\", \"public\", \"public\", \"question\", \"question\", \"qx\", \"r\", \"radio\", \"radio\", \"radio\", \"rate\", \"rate\", \"rate\", \"rate\", \"reality\", \"reason\", \"recommend\", \"reduce\", \"reduce\", \"reduce\", \"religion\", \"religious\", \"report\", \"report\", \"report\", \"report\", \"report\", \"research\", \"research\", \"result\", \"result\", \"result\", \"result\", \"ride\", \"rider\", \"right\", \"right\", \"right\", \"right\", \"ripem\", \"risk\", \"risk\", \"rlk\", \"rocket\", \"routine\", \"run\", \"run\", \"russian\", \"s\", \"s\", \"s\", \"safety\", \"safety\", \"safety\", \"sale\", \"satellite\", \"saturn\", \"say\", \"say\", \"say\", \"science\", \"science\", \"scientific\", \"score\", \"screen\", \"season\", \"sector\", \"see\", \"see\", \"see\", \"seem\", \"seem\", \"seem\", \"select\", \"select\", \"sell\", \"sell\", \"sell\", \"sell\", \"send\", \"send\", \"send\", \"send\", \"sense\", \"server\", \"service\", \"service\", \"service\", \"service\", \"service\", \"shipping\", \"shoot\", \"shoot\", \"shuttle\", \"significant\", \"sj\", \"sky\", \"slave\", \"slightly\", \"smoke\", \"software\", \"soldier\", \"soldier\", \"son\", \"space\", \"space\", \"speak\", \"sport\", \"stack\", \"stat\", \"state\", \"state\", \"state\", \"state\", \"statement\", \"study\", \"study\", \"super\", \"super\", \"sy\", \"syndrome\", \"system\", \"system\", \"system\", \"take\", \"take\", \"take\", \"take\", \"take\", \"talk\", \"talk\", \"team\", \"tell\", \"tell\", \"tell\", \"tell\", \"terrorism\", \"test\", \"thank\", \"thank\", \"thank\", \"thing\", \"thing\", \"thing\", \"think\", \"think\", \"time\", \"time\", \"time\", \"time\", \"time\", \"trade\", \"translation\", \"treatment\", \"trial\", \"true\", \"true\", \"trust\", \"trust\", \"truth\", \"tube\", \"tumor\", \"turk\", \"turkish\", \"tv\", \"understand\", \"upgrade\", \"use\", \"use\", \"use\", \"use\", \"usenet\", \"usenet\", \"user\", \"valid\", \"version\", \"vertical\", \"village\", \"wa\", \"wa\", \"want\", \"want\", \"want\", \"war\", \"war\", \"war\", \"way\", \"way\", \"way\", \"way\", \"weapon\", \"week\", \"week\", \"week\", \"week\", \"well\", \"well\", \"well\", \"well\", \"widget\", \"win\", \"win\", \"window\", \"wing\", \"winner\", \"wire\", \"withdraw\", \"wm\", \"word\", \"word\", \"work\", \"work\", \"work\", \"work\", \"workstation\", \"write\", \"write\", \"write\", \"wrong\", \"wrong\", \"year\", \"year\", \"year\", \"year\", \"year\"]}, \"R\": 30, \"lambda.step\": 0.01, \"plot.opts\": {\"xlab\": \"PC1\", \"ylab\": \"PC2\"}, \"topic.order\": [3, 2, 4, 8, 6, 5, 7, 1]};\n",
       "\n",
       "function LDAvis_load_lib(url, callback){\n",
       "  var s = document.createElement('script');\n",
       "  s.src = url;\n",
       "  s.async = true;\n",
       "  s.onreadystatechange = s.onload = callback;\n",
       "  s.onerror = function(){console.warn(\"failed to load library \" + url);};\n",
       "  document.getElementsByTagName(\"head\")[0].appendChild(s);\n",
       "}\n",
       "\n",
       "if(typeof(LDAvis) !== \"undefined\"){\n",
       "   // already loaded: just create the visualization\n",
       "   !function(LDAvis){\n",
       "       new LDAvis(\"#\" + \"ldavis_el1341613725280579202026320158\", ldavis_el1341613725280579202026320158_data);\n",
       "   }(LDAvis);\n",
       "}else if(typeof define === \"function\" && define.amd){\n",
       "   // require.js is available: use it to load d3/LDAvis\n",
       "   require.config({paths: {d3: \"https://d3js.org/d3.v5\"}});\n",
       "   require([\"d3\"], function(d3){\n",
       "      window.d3 = d3;\n",
       "      LDAvis_load_lib(\"https://cdn.jsdelivr.net/gh/bmabey/pyLDAvis@3.3.1/pyLDAvis/js/ldavis.v3.0.0.js\", function(){\n",
       "        new LDAvis(\"#\" + \"ldavis_el1341613725280579202026320158\", ldavis_el1341613725280579202026320158_data);\n",
       "      });\n",
       "    });\n",
       "}else{\n",
       "    // require.js not available: dynamically load d3 & LDAvis\n",
       "    LDAvis_load_lib(\"https://d3js.org/d3.v5.js\", function(){\n",
       "         LDAvis_load_lib(\"https://cdn.jsdelivr.net/gh/bmabey/pyLDAvis@3.3.1/pyLDAvis/js/ldavis.v3.0.0.js\", function(){\n",
       "                 new LDAvis(\"#\" + \"ldavis_el1341613725280579202026320158\", ldavis_el1341613725280579202026320158_data);\n",
       "            })\n",
       "         });\n",
       "}\n",
       "</script>"
      ],
      "text/plain": [
       "<IPython.core.display.HTML object>"
      ]
     },
     "execution_count": 21,
     "metadata": {},
     "output_type": "execute_result"
    }
   ],
   "source": [
    "pyLDAvis.display(vis)"
   ]
  },
  {
   "cell_type": "code",
   "execution_count": null,
   "id": "d567b781",
   "metadata": {},
   "outputs": [],
   "source": [
    "def format_topics_sentences(ldamodel=None, corpus=corpus, texts=data):\n",
    "    # Init output\n",
    "    sent_topics_df = pd.DataFrame()\n",
    "\n",
    "    # Get main topic in each document\n",
    "    for i, row_list in enumerate(ldamodel[corpus]):\n",
    "        row = row_list[0] if ldamodel.per_word_topics else row_list            \n",
    "        # print(row)\n",
    "        row = sorted(row, key=lambda x: (x[1]), reverse=True)\n",
    "        # Get the Dominant topic, Perc Contribution and Keywords for each document\n",
    "        for j, (topic_num, prop_topic) in enumerate(row):\n",
    "            if j == 0:  # => dominant topic\n",
    "                wp = ldamodel.show_topic(topic_num)\n",
    "                topic_keywords = \", \".join([word for word, prop in wp])\n",
    "                sent_topics_df = sent_topics_df.append(pd.Series([int(topic_num), round(prop_topic,4), topic_keywords]), ignore_index=True)\n",
    "            else:\n",
    "                break\n",
    "    sent_topics_df.columns = ['Dominant_Topic', 'Perc_Contribution', 'Topic_Keywords']\n",
    "\n",
    "    # Add original text to the end of the output\n",
    "    contents = pd.Series(texts)\n",
    "    sent_topics_df = pd.concat([sent_topics_df, contents], axis=1)\n",
    "    return(sent_topics_df)\n",
    "\n",
    "\n",
    "df_topic_sents_keywords = format_topics_sentences(ldamodel=lda_model, corpus=corpus, texts=data_lemmatized)\n",
    "\n",
    "# Format\n",
    "df_dominant_topic = df_topic_sents_keywords.reset_index()\n",
    "df_dominant_topic.columns = ['Document_No', 'Dominant_Topic', 'Topic_Perc_Contrib', 'Keywords', 'Text']\n",
    "df_dominant_topic.head(10)"
   ]
  }
 ],
 "metadata": {
  "kernelspec": {
   "display_name": "Python 3 (ipykernel)",
   "language": "python",
   "name": "python3"
  },
  "language_info": {
   "codemirror_mode": {
    "name": "ipython",
    "version": 3
   },
   "file_extension": ".py",
   "mimetype": "text/x-python",
   "name": "python",
   "nbconvert_exporter": "python",
   "pygments_lexer": "ipython3",
   "version": "3.9.12"
  }
 },
 "nbformat": 4,
 "nbformat_minor": 5
}
